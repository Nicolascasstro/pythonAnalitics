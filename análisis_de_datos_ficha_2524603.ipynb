{
  "nbformat": 4,
  "nbformat_minor": 0,
  "metadata": {
    "colab": {
      "provenance": [],
      "include_colab_link": true
    },
    "kernelspec": {
      "name": "python3",
      "display_name": "Python 3"
    },
    "language_info": {
      "name": "python"
    }
  },
  "cells": [
    {
      "cell_type": "markdown",
      "metadata": {
        "id": "view-in-github",
        "colab_type": "text"
      },
      "source": [
        "<a href=\"https://colab.research.google.com/github/Nicolascasstro/pythonAnalitics/blob/main/an%C3%A1lisis_de_datos_ficha_2524603.ipynb\" target=\"_parent\"><img src=\"https://colab.research.google.com/assets/colab-badge.svg\" alt=\"Open In Colab\"/></a>"
      ]
    },
    {
      "cell_type": "code",
      "execution_count": null,
      "metadata": {
        "colab": {
          "base_uri": "https://localhost:8080/"
        },
        "id": "lL8I8B68qzKo",
        "outputId": "1c214be7-5a5e-4ab7-c88a-165fe7a93958"
      },
      "outputs": [
        {
          "output_type": "stream",
          "name": "stdout",
          "text": [
            "hola mundo\n"
          ]
        }
      ],
      "source": [
        "print(\"hola mundo\")"
      ]
    },
    {
      "cell_type": "markdown",
      "source": [],
      "metadata": {
        "id": "RveFMhxJUS-p"
      }
    },
    {
      "cell_type": "markdown",
      "source": [],
      "metadata": {
        "id": "t26WJKplu2lH"
      }
    },
    {
      "cell_type": "code",
      "source": [
        "\n",
        "costo_por_hora = 1200\n",
        "\n",
        "horas_utilizadas = float(input(\"Ingrese el número de horas utilizadas: \"))\n",
        "\n",
        "monto_a_pagar = costo_por_hora * horas_utilizadas\n",
        "\n",
        "print(\"El monto a pagar es:\", monto_a_pagar, \"pesos\")\n"
      ],
      "metadata": {
        "colab": {
          "base_uri": "https://localhost:8080/"
        },
        "id": "_sacbZq6u28X",
        "outputId": "f3873505-f385-41ac-e2b4-e38ed55dedc1"
      },
      "execution_count": null,
      "outputs": [
        {
          "output_type": "stream",
          "name": "stdout",
          "text": [
            "Ingrese el número de horas utilizadas: 3\n",
            "El monto a pagar es: 3600.0 pesos\n"
          ]
        }
      ]
    },
    {
      "cell_type": "code",
      "source": [
        "\n",
        "salario_actual = float(input(\"Ingrese el salario actual del empleado en pesos: \"))\n",
        "\n",
        "incremento = salario_actual * 0.10\n",
        "\n",
        "descuento = salario_actual * 0.035\n",
        "\n",
        "nuevo_salario = salario_actual + incremento - descuento\n",
        "\n",
        "print(\"El nuevo salario del empleado es:\", nuevo_salario, \"pesos\")\n"
      ],
      "metadata": {
        "colab": {
          "base_uri": "https://localhost:8080/"
        },
        "id": "5SS5s-j30e69",
        "outputId": "cb16cbaa-056f-4182-dcaa-5180d1b52b4f"
      },
      "execution_count": null,
      "outputs": [
        {
          "output_type": "stream",
          "name": "stdout",
          "text": [
            "Ingrese el salario actual del empleado en pesos: 600000\n",
            "El nuevo salario del empleado es: 639000.0 pesos\n"
          ]
        }
      ]
    },
    {
      "cell_type": "code",
      "source": [
        "\n",
        "velocidad_original = 45\n",
        "\n",
        "tiempo_original = 2\n",
        "\n",
        "distancia_original = velocidad_original * tiempo_original\n",
        "\n",
        "nuevo_tiempo = float(input(\"Ingrese el nuevo tiempo en horas: \"))\n",
        "\n",
        "nueva_velocidad = distancia_original / nuevo_tiempo\n",
        "\n",
        "print(\"La nueva velocidad es:\", nueva_velocidad, \"km/h\")\n"
      ],
      "metadata": {
        "colab": {
          "base_uri": "https://localhost:8080/"
        },
        "id": "ViClOID10JPt",
        "outputId": "119c1d8e-af36-4f16-9d1d-62878232818c"
      },
      "execution_count": null,
      "outputs": [
        {
          "output_type": "stream",
          "name": "stdout",
          "text": [
            "Ingrese el nuevo tiempo en horas: 4\n",
            "La nueva velocidad es: 22.5 km/h\n"
          ]
        }
      ]
    },
    {
      "cell_type": "code",
      "source": [
        "\n",
        "tasa_cambio_dolares = 0.00024\n",
        "\n",
        "tasa_cambio_euros = 0.00022\n",
        "\n",
        "\n",
        "monto_pesos = float(input(\"Ingrese la cantidad en pesos colombianos: \"))\n",
        "\n",
        "monto_dolares = monto_pesos * tasa_cambio_dolares\n",
        "monto_euros = monto_pesos * tasa_cambio_euros\n",
        "\n",
        "print(f\"{monto_pesos} pesos colombianos son aproximadamente {monto_dolares} dólares.\")\n",
        "print(f\"{monto_pesos} pesos colombianos son aproximadamente {monto_euros} euros.\")\n"
      ],
      "metadata": {
        "colab": {
          "base_uri": "https://localhost:8080/"
        },
        "id": "MghAmcPl0vff",
        "outputId": "a6f4cd03-1e37-4ade-e09a-68e6b9976c64"
      },
      "execution_count": null,
      "outputs": [
        {
          "output_type": "stream",
          "name": "stdout",
          "text": [
            "Ingrese la cantidad en pesos colombianos: 5000\n",
            "5000.0 pesos colombianos son aproximadamente 1.2 dólares.\n",
            "5000.0 pesos colombianos son aproximadamente 1.1 euros.\n"
          ]
        }
      ]
    },
    {
      "cell_type": "markdown",
      "source": [
        "\n",
        "\n",
        "```\n",
        "# T\n",
        "SERIE Y/O LISTAS\n",
        "\n",
        "```\n",
        "\n"
      ],
      "metadata": {
        "id": "ph54GMJT-rEY"
      }
    },
    {
      "cell_type": "code",
      "source": [
        "import matplotlib.pyplot as plt\n",
        "\n",
        "# Capturar por teclado el número de aprendices\n",
        "num_aprendices = int(input(\"Ingrese el número de aprendices que va a almacenar \"))\n",
        "\n",
        "# Inicialización de la serie y/o vector aprendices\n",
        "aprendices = []\n",
        "calificaciones = []\n",
        "\n",
        "for i in range(num_aprendices):\n",
        "    nombre = input(\"Digite el nombre del aprendiz \")\n",
        "    calificacion = float(input(\"Digite la calificación \"))\n",
        "    # Utilizaremos un método append para asignar el valor a la serie\n",
        "    aprendices.append(nombre)\n",
        "    calificaciones.append(calificacion)\n",
        "\n",
        "# Encontrar la menor calificación, la mayor calificación y el promedio\n",
        "min_calificacion = min(calificaciones)\n",
        "max_calificacion = max(calificaciones)\n",
        "promedio = sum(calificaciones) / num_aprendices\n",
        "\n",
        "# Crear el gráfico de barras para las calificaciones de los aprendices\n",
        "plt.bar(aprendices, calificaciones, color='skyblue')\n",
        "\n",
        "# Personalizar el histograma\n",
        "plt.xlabel(\"Aprendices\")\n",
        "plt.ylabel(\"Calificaciones\")\n",
        "plt.title(\"Calificaciones de los aprendices ficha 2524603\")\n",
        "\n",
        "# Establecer los límites del plano cartesiano\n",
        "plt.ylim(0, 6)\n",
        "\n",
        "# Mostrar el histograma\n",
        "plt.show()\n",
        "\n",
        "# Crear un nuevo gráfico de barras para las estadísticas (menor, mayor y promedio)\n",
        "estadisticas = ['Menor', 'Mayor', 'Promedio']\n",
        "valores_estadisticas = [min_calificacion, max_calificacion, promedio]\n",
        "\n",
        "plt.bar(estadisticas, valores_estadisticas, color='red')\n",
        "\n",
        "# Personalizar el histograma de estadísticas\n",
        "plt.xlabel(\"Estadísticas\")\n",
        "plt.ylabel(\"Calificaciones\")\n",
        "plt.title(\"Estadísticas de calificaciones\")\n",
        "\n",
        "# Establecer los límites del plano cartesiano\n",
        "plt.ylim(0, 6)\n",
        "\n",
        "# Mostrar el histograma de estadísticas\n",
        "plt.show()\n",
        "\n",
        "\n",
        "\n",
        "\n",
        "\n"
      ],
      "metadata": {
        "colab": {
          "base_uri": "https://localhost:8080/",
          "height": 1000
        },
        "id": "ufJosIjG-_0W",
        "outputId": "9367130c-23f9-4faf-88f2-93b4efca7bd4"
      },
      "execution_count": null,
      "outputs": [
        {
          "name": "stdout",
          "output_type": "stream",
          "text": [
            "Ingrese el número de aprendices que va a almacenar 2\n",
            "Digite el nombre del aprendiz Nicolas\n",
            "Digite la calificación 4.5\n",
            "Digite el nombre del aprendiz Juan\n",
            "Digite la calificación 3.8\n"
          ]
        },
        {
          "output_type": "display_data",
          "data": {
            "text/plain": [
              "<Figure size 640x480 with 1 Axes>"
            ],
            "image/png": "[encoded data removed]"
          },
          "metadata": {}
        },
        {
          "output_type": "display_data",
          "data": {
            "text/plain": [
              "<Figure size 640x480 with 1 Axes>"
            ],
            "image/png": "[encoded data removed]"
          },
          "metadata": {}
        }
      ]
    },
    {
      "cell_type": "code",
      "source": [],
      "metadata": {
        "id": "08bfJdgxAUZ2"
      },
      "execution_count": null,
      "outputs": []
    },
    {
      "cell_type": "markdown",
      "source": [
        "# DATAFRIME\n"
      ],
      "metadata": {
        "id": "GX8E56L2UUQA"
      }
    },
    {
      "cell_type": "code",
      "source": [
        "import pandas as pd\n",
        "\n",
        "# Cargamos los registros en el diccionario de datos\n",
        "aprendices={'Nombre':[\"Miguel\",\"Brayan\",\"Mariana\",\"Nicolas\",\"Laura\"],\n",
        "            'Apellidos':[\"Martinez\",\"Bernal\",\"Guerrero\",\"Martinez\",\"Becerra\"],\n",
        "            'Sexo':[\"M\",\"M\",\"F\",\"M\",\"F\"],\n",
        "            'Edad':[25,20,19,22,20]\n",
        "            }\n",
        "# Definimos una variable\n",
        "df=pd.DataFrame(aprendices)\n",
        "print(\"Imprimimos el Dataframe\")\n",
        "print(df)\n",
        "\n",
        "# Definimos una variable edad_mayor\n",
        "edad_mayor=df['Edad'].max()\n",
        "print(\"la edad mayor es \",edad_mayor)\n",
        "\n",
        "# Definimos una variable promedio_edades\n",
        "promedio_edades=df['Edad'].mean()\n",
        "print(\"el promedio de edades es \",promedio_edades)\n"
      ],
      "metadata": {
        "colab": {
          "base_uri": "https://localhost:8080/"
        },
        "id": "7xobG0d7UXrQ",
        "outputId": "89f89417-75eb-4994-e5cb-a994cb4a1a2c"
      },
      "execution_count": null,
      "outputs": [
        {
          "output_type": "stream",
          "name": "stdout",
          "text": [
            "Imprimimos el Dataframe\n",
            "    Nombre Apellidos Sexo  Edad\n",
            "0   Miguel  Martinez    M    25\n",
            "1   Brayan    Bernal    M    20\n",
            "2  Mariana  Guerrero    F    19\n",
            "3  Nicolas  Martinez    M    22\n",
            "4    Laura   Becerra    F    20\n",
            "la edad mayor es  25\n",
            "el promedio de edades es  21.2\n"
          ]
        }
      ]
    },
    {
      "cell_type": "code",
      "source": [],
      "metadata": {
        "id": "WfGelmA6Wch_"
      },
      "execution_count": null,
      "outputs": []
    },
    {
      "cell_type": "code",
      "source": [
        "ximport pandas as pd\n",
        "\n",
        "# Crear un DataFrame vacío\n",
        "df = pd.DataFrame(columns=['Nombre', 'Apellidos', 'Sexo', 'Edad'])\n",
        "\n",
        "# Solicitar al usuario que ingrese los datos\n",
        "n = int(input(\"Número de registros a ingresar: \"))\n",
        "\n",
        "data = []\n",
        "\n",
        "for i in range(n):\n",
        "    nombre = input(\"Nombre: \")\n",
        "    apellidos = input(\"Apellidos: \")\n",
        "    sexo = input(\"Sexo (M/F): \")\n",
        "    edad = int(input(\"Edad: \"))\n",
        "\n",
        "    data.append({'Nombre': nombre, 'Apellidos': apellidos, 'Sexo': sexo, 'Edad': edad})\n",
        "\n",
        "# Agregar los datos al DataFrame\n",
        "df = pd.concat([df, pd.DataFrame(data)], ignore_index=True)\n",
        "\n",
        "# Mostrar el DataFrame con los registros ingresados\n",
        "print(df)\n",
        "\n",
        "\n",
        "\n",
        "\n",
        "\n",
        "\n"
      ],
      "metadata": {
        "colab": {
          "base_uri": "https://localhost:8080/"
        },
        "id": "MByd0xfhsY2m",
        "outputId": "234ffd77-0515-4b23-b73d-954ca947fe5b"
      },
      "execution_count": null,
      "outputs": [
        {
          "output_type": "stream",
          "name": "stdout",
          "text": [
            "Número de registros a ingresar: 2\n",
            "Nombre: juan\n",
            "Apellidos: ramirez\n",
            "Sexo (M/F): M\n",
            "Edad: 12\n",
            "Nombre: yesica\n",
            "Apellidos: perez\n",
            "Sexo (M/F): 25\n",
            "Edad: 25\n",
            "   Nombre Apellidos Sexo Edad\n",
            "0    juan   ramirez    M   12\n",
            "1  yesica     perez   25   25\n"
          ]
        }
      ]
    },
    {
      "cell_type": "code",
      "source": [
        " from google.colab import files\n",
        " load=files.upload()"
      ],
      "metadata": {
        "colab": {
          "base_uri": "https://localhost:8080/",
          "height": 73
        },
        "id": "f9B8UJ3qAAJs",
        "outputId": "2c7ba88f-a72e-4538-e398-4d6c5076b3b6"
      },
      "execution_count": null,
      "outputs": [
        {
          "output_type": "display_data",
          "data": {
            "text/plain": [
              "<IPython.core.display.HTML object>"
            ],
            "text/html": [
              "\n",
              "     <input type=\"file\" id=\"files-b5436ec2-907e-4599-96e2-162ea7ff58f8\" name=\"files[]\" multiple disabled\n",
              "        style=\"border:none\" />\n",
              "     <output id=\"result-b5436ec2-907e-4599-96e2-162ea7ff58f8\">\n",
              "      Upload widget is only available when the cell has been executed in the\n",
              "      current browser session. Please rerun this cell to enable.\n",
              "      </output>\n",
              "      <script>// Copyright 2017 Google LLC\n",
              "//\n",
              "// Licensed under the Apache License, Version 2.0 (the \"License\");\n",
              "// you may not use this file except in compliance with the License.\n",
              "// You may obtain a copy of the License at\n",
              "//\n",
              "//      http://www.apache.org/licenses/LICENSE-2.0\n",
              "//\n",
              "// Unless required by applicable law or agreed to in writing, software\n",
              "// distributed under the License is distributed on an \"AS IS\" BASIS,\n",
              "// WITHOUT WARRANTIES OR CONDITIONS OF ANY KIND, either express or implied.\n",
              "// See the License for the specific language governing permissions and\n",
              "// limitations under the License.\n",
              "\n",
              "/**\n",
              " * @fileoverview Helpers for google.colab Python module.\n",
              " */\n",
              "(function(scope) {\n",
              "function span(text, styleAttributes = {}) {\n",
              "  const element = document.createElement('span');\n",
              "  element.textContent = text;\n",
              "  for (const key of Object.keys(styleAttributes)) {\n",
              "    element.style[key] = styleAttributes[key];\n",
              "  }\n",
              "  return element;\n",
              "}\n",
              "\n",
              "// Max number of bytes which will be uploaded at a time.\n",
              "const MAX_PAYLOAD_SIZE = 100 * 1024;\n",
              "\n",
              "function _uploadFiles(inputId, outputId) {\n",
              "  const steps = uploadFilesStep(inputId, outputId);\n",
              "  const outputElement = document.getElementById(outputId);\n",
              "  // Cache steps on the outputElement to make it available for the next call\n",
              "  // to uploadFilesContinue from Python.\n",
              "  outputElement.steps = steps;\n",
              "\n",
              "  return _uploadFilesContinue(outputId);\n",
              "}\n",
              "\n",
              "// This is roughly an async generator (not supported in the browser yet),\n",
              "// where there are multiple asynchronous steps and the Python side is going\n",
              "// to poll for completion of each step.\n",
              "// This uses a Promise to block the python side on completion of each step,\n",
              "// then passes the result of the previous step as the input to the next step.\n",
              "function _uploadFilesContinue(outputId) {\n",
              "  const outputElement = document.getElementById(outputId);\n",
              "  const steps = outputElement.steps;\n",
              "\n",
              "  const next = steps.next(outputElement.lastPromiseValue);\n",
              "  return Promise.resolve(next.value.promise).then((value) => {\n",
              "    // Cache the last promise value to make it available to the next\n",
              "    // step of the generator.\n",
              "    outputElement.lastPromiseValue = value;\n",
              "    return next.value.response;\n",
              "  });\n",
              "}\n",
              "\n",
              "/**\n",
              " * Generator function which is called between each async step of the upload\n",
              " * process.\n",
              " * @param {string} inputId Element ID of the input file picker element.\n",
              " * @param {string} outputId Element ID of the output display.\n",
              " * @return {!Iterable<!Object>} Iterable of next steps.\n",
              " */\n",
              "function* uploadFilesStep(inputId, outputId) {\n",
              "  const inputElement = document.getElementById(inputId);\n",
              "  inputElement.disabled = false;\n",
              "\n",
              "  const outputElement = document.getElementById(outputId);\n",
              "  outputElement.innerHTML = '';\n",
              "\n",
              "  const pickedPromise = new Promise((resolve) => {\n",
              "    inputElement.addEventListener('change', (e) => {\n",
              "      resolve(e.target.files);\n",
              "    });\n",
              "  });\n",
              "\n",
              "  const cancel = document.createElement('button');\n",
              "  inputElement.parentElement.appendChild(cancel);\n",
              "  cancel.textContent = 'Cancel upload';\n",
              "  const cancelPromise = new Promise((resolve) => {\n",
              "    cancel.onclick = () => {\n",
              "      resolve(null);\n",
              "    };\n",
              "  });\n",
              "\n",
              "  // Wait for the user to pick the files.\n",
              "  const files = yield {\n",
              "    promise: Promise.race([pickedPromise, cancelPromise]),\n",
              "    response: {\n",
              "      action: 'starting',\n",
              "    }\n",
              "  };\n",
              "\n",
              "  cancel.remove();\n",
              "\n",
              "  // Disable the input element since further picks are not allowed.\n",
              "  inputElement.disabled = true;\n",
              "\n",
              "  if (!files) {\n",
              "    return {\n",
              "      response: {\n",
              "        action: 'complete',\n",
              "      }\n",
              "    };\n",
              "  }\n",
              "\n",
              "  for (const file of files) {\n",
              "    const li = document.createElement('li');\n",
              "    li.append(span(file.name, {fontWeight: 'bold'}));\n",
              "    li.append(span(\n",
              "        `(${file.type || 'n/a'}) - ${file.size} bytes, ` +\n",
              "        `last modified: ${\n",
              "            file.lastModifiedDate ? file.lastModifiedDate.toLocaleDateString() :\n",
              "                                    'n/a'} - `));\n",
              "    const percent = span('0% done');\n",
              "    li.appendChild(percent);\n",
              "\n",
              "    outputElement.appendChild(li);\n",
              "\n",
              "    const fileDataPromise = new Promise((resolve) => {\n",
              "      const reader = new FileReader();\n",
              "      reader.onload = (e) => {\n",
              "        resolve(e.target.result);\n",
              "      };\n",
              "      reader.readAsArrayBuffer(file);\n",
              "    });\n",
              "    // Wait for the data to be ready.\n",
              "    let fileData = yield {\n",
              "      promise: fileDataPromise,\n",
              "      response: {\n",
              "        action: 'continue',\n",
              "      }\n",
              "    };\n",
              "\n",
              "    // Use a chunked sending to avoid message size limits. See b/62115660.\n",
              "    let position = 0;\n",
              "    do {\n",
              "      const length = Math.min(fileData.byteLength - position, MAX_PAYLOAD_SIZE);\n",
              "      const chunk = new Uint8Array(fileData, position, length);\n",
              "      position += length;\n",
              "\n",
              "      const base64 = btoa(String.fromCharCode.apply(null, chunk));\n",
              "      yield {\n",
              "        response: {\n",
              "          action: 'append',\n",
              "          file: file.name,\n",
              "          data: base64,\n",
              "        },\n",
              "      };\n",
              "\n",
              "      let percentDone = fileData.byteLength === 0 ?\n",
              "          100 :\n",
              "          Math.round((position / fileData.byteLength) * 100);\n",
              "      percent.textContent = `${percentDone}% done`;\n",
              "\n",
              "    } while (position < fileData.byteLength);\n",
              "  }\n",
              "\n",
              "  // All done.\n",
              "  yield {\n",
              "    response: {\n",
              "      action: 'complete',\n",
              "    }\n",
              "  };\n",
              "}\n",
              "\n",
              "scope.google = scope.google || {};\n",
              "scope.google.colab = scope.google.colab || {};\n",
              "scope.google.colab._files = {\n",
              "  _uploadFiles,\n",
              "  _uploadFilesContinue,\n",
              "};\n",
              "})(self);\n",
              "</script> "
            ]
          },
          "metadata": {}
        },
        {
          "output_type": "stream",
          "name": "stdout",
          "text": [
            "Saving Divorcios_En_Colombia_20231024.csv to Divorcios_En_Colombia_20231024.csv\n"
          ]
        }
      ]
    },
    {
      "cell_type": "code",
      "source": [
        "from pandas.core.frame import DataFrame\n",
        "import pandas as pd\n",
        "import matplotlib.pyplot as plt\n",
        "\n",
        "# Realizamos la lectura del archivo Divorcios_En_Colombia_20231024.csv por medio\n",
        "#Del metodo read_csv\n",
        "df=pd.read_csv('Divorcios_En_Colombia_20231024.csv')\n",
        "\n",
        "# Asignacion de los campos en el eje x y eje y\n",
        "\n",
        "y = df['Divorcios']\n",
        "x= df['Departamento']\n",
        "\n",
        "#consultar\n",
        "max_divorcios =df ['Divorcios'].max()\n",
        "print(f\"el numero mayor de divorcios es {max_divorcios}\")\n",
        "\n",
        "#consultar cual es el numero mayor de divorcios por departamentos en Colombia\n",
        "max_departamento=df['Departamento'].max()\n",
        "print(f\"el departamento con mas divorcios es {max_departamento}\")\n",
        "\n",
        "#crear grafico\n",
        "plt.bar(x,y, color='skyblue')\n",
        "\n",
        "# Personalizar grafico\n",
        "plt.ylabel('Divorcios')\n",
        "plt.xlabel('Departamento')\n",
        "plt.title('Los mas divorciados ')\n",
        "plt.ylim(0,1000)\n",
        "\n",
        "#suma divorcios departamento antioquia\n",
        "\n",
        "diAn = df.loc[df['Departamento'] == 'ANTIOQUIA', ['Divorcios']]\n",
        "print(\"La suma del departamento de antioquia es de \",diAn.sum())\n",
        "\n",
        "\n"
      ],
      "metadata": {
        "colab": {
          "base_uri": "https://localhost:8080/",
          "height": 547
        },
        "id": "2tPW_vYtIqX6",
        "outputId": "fcbc8fec-f67b-43dd-fa8d-b1f9897f4482"
      },
      "execution_count": null,
      "outputs": [
        {
          "output_type": "stream",
          "name": "stdout",
          "text": [
            "el numero mayor de divorcios es 668\n",
            "el departamento con mas divorcios es VICHADA\n",
            "La suma del departamento de antioquia es de  Divorcios    30510\n",
            "dtype: int64\n"
          ]
        },
        {
          "output_type": "display_data",
          "data": {
            "text/plain": [
              "<Figure size 640x480 with 1 Axes>"
            ],
            "image/png": "[encoded data removed]"
          },
          "metadata": {}
        }
      ]
    },
    {
      "cell_type": "code",
      "source": [
        " from google.colab import files\n",
        " load=files.upload()"
      ],
      "metadata": {
        "colab": {
          "base_uri": "https://localhost:8080/",
          "height": 73
        },
        "id": "6c9E088VqfeT",
        "outputId": "e9acd639-3546-41fa-b024-7c538600a6d7"
      },
      "execution_count": null,
      "outputs": [
        {
          "output_type": "display_data",
          "data": {
            "text/plain": [
              "<IPython.core.display.HTML object>"
            ],
            "text/html": [
              "\n",
              "     <input type=\"file\" id=\"files-a3173d39-662c-4f06-a57f-f0fd5683bd02\" name=\"files[]\" multiple disabled\n",
              "        style=\"border:none\" />\n",
              "     <output id=\"result-a3173d39-662c-4f06-a57f-f0fd5683bd02\">\n",
              "      Upload widget is only available when the cell has been executed in the\n",
              "      current browser session. Please rerun this cell to enable.\n",
              "      </output>\n",
              "      <script>// Copyright 2017 Google LLC\n",
              "//\n",
              "// Licensed under the Apache License, Version 2.0 (the \"License\");\n",
              "// you may not use this file except in compliance with the License.\n",
              "// You may obtain a copy of the License at\n",
              "//\n",
              "//      http://www.apache.org/licenses/LICENSE-2.0\n",
              "//\n",
              "// Unless required by applicable law or agreed to in writing, software\n",
              "// distributed under the License is distributed on an \"AS IS\" BASIS,\n",
              "// WITHOUT WARRANTIES OR CONDITIONS OF ANY KIND, either express or implied.\n",
              "// See the License for the specific language governing permissions and\n",
              "// limitations under the License.\n",
              "\n",
              "/**\n",
              " * @fileoverview Helpers for google.colab Python module.\n",
              " */\n",
              "(function(scope) {\n",
              "function span(text, styleAttributes = {}) {\n",
              "  const element = document.createElement('span');\n",
              "  element.textContent = text;\n",
              "  for (const key of Object.keys(styleAttributes)) {\n",
              "    element.style[key] = styleAttributes[key];\n",
              "  }\n",
              "  return element;\n",
              "}\n",
              "\n",
              "// Max number of bytes which will be uploaded at a time.\n",
              "const MAX_PAYLOAD_SIZE = 100 * 1024;\n",
              "\n",
              "function _uploadFiles(inputId, outputId) {\n",
              "  const steps = uploadFilesStep(inputId, outputId);\n",
              "  const outputElement = document.getElementById(outputId);\n",
              "  // Cache steps on the outputElement to make it available for the next call\n",
              "  // to uploadFilesContinue from Python.\n",
              "  outputElement.steps = steps;\n",
              "\n",
              "  return _uploadFilesContinue(outputId);\n",
              "}\n",
              "\n",
              "// This is roughly an async generator (not supported in the browser yet),\n",
              "// where there are multiple asynchronous steps and the Python side is going\n",
              "// to poll for completion of each step.\n",
              "// This uses a Promise to block the python side on completion of each step,\n",
              "// then passes the result of the previous step as the input to the next step.\n",
              "function _uploadFilesContinue(outputId) {\n",
              "  const outputElement = document.getElementById(outputId);\n",
              "  const steps = outputElement.steps;\n",
              "\n",
              "  const next = steps.next(outputElement.lastPromiseValue);\n",
              "  return Promise.resolve(next.value.promise).then((value) => {\n",
              "    // Cache the last promise value to make it available to the next\n",
              "    // step of the generator.\n",
              "    outputElement.lastPromiseValue = value;\n",
              "    return next.value.response;\n",
              "  });\n",
              "}\n",
              "\n",
              "/**\n",
              " * Generator function which is called between each async step of the upload\n",
              " * process.\n",
              " * @param {string} inputId Element ID of the input file picker element.\n",
              " * @param {string} outputId Element ID of the output display.\n",
              " * @return {!Iterable<!Object>} Iterable of next steps.\n",
              " */\n",
              "function* uploadFilesStep(inputId, outputId) {\n",
              "  const inputElement = document.getElementById(inputId);\n",
              "  inputElement.disabled = false;\n",
              "\n",
              "  const outputElement = document.getElementById(outputId);\n",
              "  outputElement.innerHTML = '';\n",
              "\n",
              "  const pickedPromise = new Promise((resolve) => {\n",
              "    inputElement.addEventListener('change', (e) => {\n",
              "      resolve(e.target.files);\n",
              "    });\n",
              "  });\n",
              "\n",
              "  const cancel = document.createElement('button');\n",
              "  inputElement.parentElement.appendChild(cancel);\n",
              "  cancel.textContent = 'Cancel upload';\n",
              "  const cancelPromise = new Promise((resolve) => {\n",
              "    cancel.onclick = () => {\n",
              "      resolve(null);\n",
              "    };\n",
              "  });\n",
              "\n",
              "  // Wait for the user to pick the files.\n",
              "  const files = yield {\n",
              "    promise: Promise.race([pickedPromise, cancelPromise]),\n",
              "    response: {\n",
              "      action: 'starting',\n",
              "    }\n",
              "  };\n",
              "\n",
              "  cancel.remove();\n",
              "\n",
              "  // Disable the input element since further picks are not allowed.\n",
              "  inputElement.disabled = true;\n",
              "\n",
              "  if (!files) {\n",
              "    return {\n",
              "      response: {\n",
              "        action: 'complete',\n",
              "      }\n",
              "    };\n",
              "  }\n",
              "\n",
              "  for (const file of files) {\n",
              "    const li = document.createElement('li');\n",
              "    li.append(span(file.name, {fontWeight: 'bold'}));\n",
              "    li.append(span(\n",
              "        `(${file.type || 'n/a'}) - ${file.size} bytes, ` +\n",
              "        `last modified: ${\n",
              "            file.lastModifiedDate ? file.lastModifiedDate.toLocaleDateString() :\n",
              "                                    'n/a'} - `));\n",
              "    const percent = span('0% done');\n",
              "    li.appendChild(percent);\n",
              "\n",
              "    outputElement.appendChild(li);\n",
              "\n",
              "    const fileDataPromise = new Promise((resolve) => {\n",
              "      const reader = new FileReader();\n",
              "      reader.onload = (e) => {\n",
              "        resolve(e.target.result);\n",
              "      };\n",
              "      reader.readAsArrayBuffer(file);\n",
              "    });\n",
              "    // Wait for the data to be ready.\n",
              "    let fileData = yield {\n",
              "      promise: fileDataPromise,\n",
              "      response: {\n",
              "        action: 'continue',\n",
              "      }\n",
              "    };\n",
              "\n",
              "    // Use a chunked sending to avoid message size limits. See b/62115660.\n",
              "    let position = 0;\n",
              "    do {\n",
              "      const length = Math.min(fileData.byteLength - position, MAX_PAYLOAD_SIZE);\n",
              "      const chunk = new Uint8Array(fileData, position, length);\n",
              "      position += length;\n",
              "\n",
              "      const base64 = btoa(String.fromCharCode.apply(null, chunk));\n",
              "      yield {\n",
              "        response: {\n",
              "          action: 'append',\n",
              "          file: file.name,\n",
              "          data: base64,\n",
              "        },\n",
              "      };\n",
              "\n",
              "      let percentDone = fileData.byteLength === 0 ?\n",
              "          100 :\n",
              "          Math.round((position / fileData.byteLength) * 100);\n",
              "      percent.textContent = `${percentDone}% done`;\n",
              "\n",
              "    } while (position < fileData.byteLength);\n",
              "  }\n",
              "\n",
              "  // All done.\n",
              "  yield {\n",
              "    response: {\n",
              "      action: 'complete',\n",
              "    }\n",
              "  };\n",
              "}\n",
              "\n",
              "scope.google = scope.google || {};\n",
              "scope.google.colab = scope.google.colab || {};\n",
              "scope.google.colab._files = {\n",
              "  _uploadFiles,\n",
              "  _uploadFilesContinue,\n",
              "};\n",
              "})(self);\n",
              "</script> "
            ]
          },
          "metadata": {}
        },
        {
          "output_type": "stream",
          "name": "stdout",
          "text": [
            "Saving VISTA_GASTOS_CONGRESO_2022_PARTIDO_MIRA_20231024.csv to VISTA_GASTOS_CONGRESO_2022_PARTIDO_MIRA_20231024.csv\n"
          ]
        }
      ]
    },
    {
      "cell_type": "code",
      "source": [
        "from pandas.core.frame import DataFrame\n",
        "import pandas as pd\n",
        "import matplotlib.pyplot as plt\n",
        "\n",
        "# Realizamos la lectura del archivo Divorcios_En_Colombia_20231024.csv por medio\n",
        "#Del metodo read_csv\n",
        "df=pd.read_csv('VISTA_GASTOS_CONGRESO_2022_PARTIDO_MIRA_20231024.csv')\n",
        "\n",
        "df\n",
        "\n",
        "max_gastos=df['GAS_VALOR'].max()\n",
        "print(f\"el mayor gasto fue de  {max_gastos}\")\n",
        "\n",
        "\n",
        "min_gastos=df['GAS_VALOR'].min()\n",
        "print(f\"el menor gasto fue de  {min_gastos}\")\n",
        "\n",
        "\n",
        "# Calcular la suma de la columna 'GAS_VALOR'\n",
        "suma_gastos = df['GAS_VALOR'].sum()\n",
        "print(f\"La suma de los gastos es: {suma_gastos}\")\n",
        "\n",
        "# Contar el número de elementos en la columna 'GAS_VALOR'\n",
        "cantidad_gastos = df['GAS_VALOR'].count()\n",
        "print(f\"El número de elementos en la columna 'GAS_VALOR' es: {cantidad_gastos}\")\n",
        "\n",
        "\n",
        "var = df['GAS_VALOR'].value_counts()\n",
        "print(f\" Devuelve una serie con la frecuencia (número de repeticiones) de cada valor de la serie s.: {var}\")\n",
        "\n",
        "\n",
        "\n",
        "\n"
      ],
      "metadata": {
        "id": "Bwh4iuc9sH-V"
      },
      "execution_count": null,
      "outputs": []
    },
    {
      "cell_type": "code",
      "source": [
        "from pandas.core.frame import DataFrame\n",
        "import pandas as pd\n",
        "import matplotlib.pyplot as plt\n",
        "y = df['DEP_NOMBRE']\n",
        "x= df['ORG_NOMBRE']\n",
        "\n",
        "\n",
        "\n",
        "#crear grafico\n",
        "plt.bar(x,y, color='skyblue')\n",
        "\n",
        "# Personalizar grafico\n",
        "plt.ylabel('Departamentos')\n",
        "plt.xlabel('Organizacion')\n",
        "plt.title('grafica ')\n"
      ],
      "metadata": {
        "colab": {
          "base_uri": "https://localhost:8080/",
          "height": 492
        },
        "id": "LiTRUvumwd42",
        "outputId": "c75c95d8-8933-4779-dca0-665d85f7339a"
      },
      "execution_count": null,
      "outputs": [
        {
          "output_type": "execute_result",
          "data": {
            "text/plain": [
              "Text(0.5, 1.0, 'grafica ')"
            ]
          },
          "metadata": {},
          "execution_count": 38
        },
        {
          "output_type": "display_data",
          "data": {
            "text/plain": [
              "<Figure size 640x480 with 1 Axes>"
            ],
            "image/png": "[encoded data removed]"
          },
          "metadata": {}
        }
      ]
    },
    {
      "cell_type": "code",
      "source": [
        "from google.colab import files\n",
        "load=files.upload()"
      ],
      "metadata": {
        "colab": {
          "base_uri": "https://localhost:8080/",
          "height": 70
        },
        "id": "K9zekZMRJK0B",
        "outputId": "00eda6d4-2c40-4d97-936d-b04e606f66e3"
      },
      "execution_count": null,
      "outputs": [
        {
          "output_type": "display_data",
          "data": {
            "text/plain": [
              "<IPython.core.display.HTML object>"
            ],
            "text/html": [
              "\n",
              "     <input type=\"file\" id=\"files-f603203b-34ec-4c83-b8d6-8a92acb67755\" name=\"files[]\" multiple disabled\n",
              "        style=\"border:none\" />\n",
              "     <output id=\"result-f603203b-34ec-4c83-b8d6-8a92acb67755\">\n",
              "      Upload widget is only available when the cell has been executed in the\n",
              "      current browser session. Please rerun this cell to enable.\n",
              "      </output>\n",
              "      <script>// Copyright 2017 Google LLC\n",
              "//\n",
              "// Licensed under the Apache License, Version 2.0 (the \"License\");\n",
              "// you may not use this file except in compliance with the License.\n",
              "// You may obtain a copy of the License at\n",
              "//\n",
              "//      http://www.apache.org/licenses/LICENSE-2.0\n",
              "//\n",
              "// Unless required by applicable law or agreed to in writing, software\n",
              "// distributed under the License is distributed on an \"AS IS\" BASIS,\n",
              "// WITHOUT WARRANTIES OR CONDITIONS OF ANY KIND, either express or implied.\n",
              "// See the License for the specific language governing permissions and\n",
              "// limitations under the License.\n",
              "\n",
              "/**\n",
              " * @fileoverview Helpers for google.colab Python module.\n",
              " */\n",
              "(function(scope) {\n",
              "function span(text, styleAttributes = {}) {\n",
              "  const element = document.createElement('span');\n",
              "  element.textContent = text;\n",
              "  for (const key of Object.keys(styleAttributes)) {\n",
              "    element.style[key] = styleAttributes[key];\n",
              "  }\n",
              "  return element;\n",
              "}\n",
              "\n",
              "// Max number of bytes which will be uploaded at a time.\n",
              "const MAX_PAYLOAD_SIZE = 100 * 1024;\n",
              "\n",
              "function _uploadFiles(inputId, outputId) {\n",
              "  const steps = uploadFilesStep(inputId, outputId);\n",
              "  const outputElement = document.getElementById(outputId);\n",
              "  // Cache steps on the outputElement to make it available for the next call\n",
              "  // to uploadFilesContinue from Python.\n",
              "  outputElement.steps = steps;\n",
              "\n",
              "  return _uploadFilesContinue(outputId);\n",
              "}\n",
              "\n",
              "// This is roughly an async generator (not supported in the browser yet),\n",
              "// where there are multiple asynchronous steps and the Python side is going\n",
              "// to poll for completion of each step.\n",
              "// This uses a Promise to block the python side on completion of each step,\n",
              "// then passes the result of the previous step as the input to the next step.\n",
              "function _uploadFilesContinue(outputId) {\n",
              "  const outputElement = document.getElementById(outputId);\n",
              "  const steps = outputElement.steps;\n",
              "\n",
              "  const next = steps.next(outputElement.lastPromiseValue);\n",
              "  return Promise.resolve(next.value.promise).then((value) => {\n",
              "    // Cache the last promise value to make it available to the next\n",
              "    // step of the generator.\n",
              "    outputElement.lastPromiseValue = value;\n",
              "    return next.value.response;\n",
              "  });\n",
              "}\n",
              "\n",
              "/**\n",
              " * Generator function which is called between each async step of the upload\n",
              " * process.\n",
              " * @param {string} inputId Element ID of the input file picker element.\n",
              " * @param {string} outputId Element ID of the output display.\n",
              " * @return {!Iterable<!Object>} Iterable of next steps.\n",
              " */\n",
              "function* uploadFilesStep(inputId, outputId) {\n",
              "  const inputElement = document.getElementById(inputId);\n",
              "  inputElement.disabled = false;\n",
              "\n",
              "  const outputElement = document.getElementById(outputId);\n",
              "  outputElement.innerHTML = '';\n",
              "\n",
              "  const pickedPromise = new Promise((resolve) => {\n",
              "    inputElement.addEventListener('change', (e) => {\n",
              "      resolve(e.target.files);\n",
              "    });\n",
              "  });\n",
              "\n",
              "  const cancel = document.createElement('button');\n",
              "  inputElement.parentElement.appendChild(cancel);\n",
              "  cancel.textContent = 'Cancel upload';\n",
              "  const cancelPromise = new Promise((resolve) => {\n",
              "    cancel.onclick = () => {\n",
              "      resolve(null);\n",
              "    };\n",
              "  });\n",
              "\n",
              "  // Wait for the user to pick the files.\n",
              "  const files = yield {\n",
              "    promise: Promise.race([pickedPromise, cancelPromise]),\n",
              "    response: {\n",
              "      action: 'starting',\n",
              "    }\n",
              "  };\n",
              "\n",
              "  cancel.remove();\n",
              "\n",
              "  // Disable the input element since further picks are not allowed.\n",
              "  inputElement.disabled = true;\n",
              "\n",
              "  if (!files) {\n",
              "    return {\n",
              "      response: {\n",
              "        action: 'complete',\n",
              "      }\n",
              "    };\n",
              "  }\n",
              "\n",
              "  for (const file of files) {\n",
              "    const li = document.createElement('li');\n",
              "    li.append(span(file.name, {fontWeight: 'bold'}));\n",
              "    li.append(span(\n",
              "        `(${file.type || 'n/a'}) - ${file.size} bytes, ` +\n",
              "        `last modified: ${\n",
              "            file.lastModifiedDate ? file.lastModifiedDate.toLocaleDateString() :\n",
              "                                    'n/a'} - `));\n",
              "    const percent = span('0% done');\n",
              "    li.appendChild(percent);\n",
              "\n",
              "    outputElement.appendChild(li);\n",
              "\n",
              "    const fileDataPromise = new Promise((resolve) => {\n",
              "      const reader = new FileReader();\n",
              "      reader.onload = (e) => {\n",
              "        resolve(e.target.result);\n",
              "      };\n",
              "      reader.readAsArrayBuffer(file);\n",
              "    });\n",
              "    // Wait for the data to be ready.\n",
              "    let fileData = yield {\n",
              "      promise: fileDataPromise,\n",
              "      response: {\n",
              "        action: 'continue',\n",
              "      }\n",
              "    };\n",
              "\n",
              "    // Use a chunked sending to avoid message size limits. See b/62115660.\n",
              "    let position = 0;\n",
              "    do {\n",
              "      const length = Math.min(fileData.byteLength - position, MAX_PAYLOAD_SIZE);\n",
              "      const chunk = new Uint8Array(fileData, position, length);\n",
              "      position += length;\n",
              "\n",
              "      const base64 = btoa(String.fromCharCode.apply(null, chunk));\n",
              "      yield {\n",
              "        response: {\n",
              "          action: 'append',\n",
              "          file: file.name,\n",
              "          data: base64,\n",
              "        },\n",
              "      };\n",
              "\n",
              "      let percentDone = fileData.byteLength === 0 ?\n",
              "          100 :\n",
              "          Math.round((position / fileData.byteLength) * 100);\n",
              "      percent.textContent = `${percentDone}% done`;\n",
              "\n",
              "    } while (position < fileData.byteLength);\n",
              "  }\n",
              "\n",
              "  // All done.\n",
              "  yield {\n",
              "    response: {\n",
              "      action: 'complete',\n",
              "    }\n",
              "  };\n",
              "}\n",
              "\n",
              "scope.google = scope.google || {};\n",
              "scope.google.colab = scope.google.colab || {};\n",
              "scope.google.colab._files = {\n",
              "  _uploadFiles,\n",
              "  _uploadFilesContinue,\n",
              "};\n",
              "})(self);\n",
              "</script> "
            ]
          },
          "metadata": {}
        },
        {
          "output_type": "stream",
          "name": "stdout",
          "text": [
            "Saving Tabla-de-Análisis-de-datos-con-Python.csv to Tabla-de-Análisis-de-datos-con-Python.csv\n"
          ]
        }
      ]
    },
    {
      "cell_type": "code",
      "source": [
        "from pandas.core.frame import DataFrame\n",
        "import pandas as pd\n",
        "import matplotlib.pyplot as plt\n",
        "\n",
        "df=pd.read_csvdf=pd.read_csv('Tabla-de-Análisis-de-datos-con-Python-..csv')\n",
        "\n",
        "df\n",
        "\n",
        "\n",
        "\n"
      ],
      "metadata": {
        "colab": {
          "base_uri": "https://localhost:8080/",
          "height": 337
        },
        "id": "gIs58r_0JSbw",
        "outputId": "d1337cd8-45a4-48d8-e7dc-cb3198fbef09"
      },
      "execution_count": null,
      "outputs": [
        {
          "output_type": "execute_result",
          "data": {
            "text/plain": [
              "   ENCUESTA  EDAD SEXO  ESTRATO ESTADO CIVIL        ZONA  CONSUMO_POR_SEMANA  \\\n",
              "0        15    18    M        2            S  FACATATIVA                  12   \n",
              "1        42    22    M        5            C       FUNZA                  14   \n",
              "2        17    14    F        3            S    MOSQUERA                   8   \n",
              "3        34    41    M        3            V      MADRID                   9   \n",
              "4        12    22    M        3            S  FACATATIVA                  10   \n",
              "5        18    15    M        3            S  FACATATIVA                   9   \n",
              "6        30    30    M        2            C     MADRID                    2   \n",
              "7        50    12    F        1            S  FACATATIVA                   1   \n",
              "\n",
              "   PRECIO_MAXIMO SABOR_PREFERIDO DESCRIPCION_SABOR  \n",
              "0           1041          CURUBA             BUENO  \n",
              "1           1325         NARANJA              MALO  \n",
              "2           1499         NARANJA           REGULAR  \n",
              "3           1034       MANDARINA         EXCELENTE  \n",
              "4           1022       MANDARINA           REGULAR  \n",
              "5           1025         NARANJA           REGULAR  \n",
              "6           1111         NARANJA             BUENO  \n",
              "7           1099       MANDARINA             BUENO  "
            ],
            "text/html": [
              "\n",
              "  <div id=\"df-99fe5428-7572-4579-9551-260bf23ae93d\" class=\"colab-df-container\">\n",
              "    <div>\n",
              "<style scoped>\n",
              "    .dataframe tbody tr th:only-of-type {\n",
              "        vertical-align: middle;\n",
              "    }\n",
              "\n",
              "    .dataframe tbody tr th {\n",
              "        vertical-align: top;\n",
              "    }\n",
              "\n",
              "    .dataframe thead th {\n",
              "        text-align: right;\n",
              "    }\n",
              "</style>\n",
              "<table border=\"1\" class=\"dataframe\">\n",
              "  <thead>\n",
              "    <tr style=\"text-align: right;\">\n",
              "      <th></th>\n",
              "      <th>ENCUESTA</th>\n",
              "      <th>EDAD</th>\n",
              "      <th>SEXO</th>\n",
              "      <th>ESTRATO</th>\n",
              "      <th>ESTADO CIVIL</th>\n",
              "      <th>ZONA</th>\n",
              "      <th>CONSUMO_POR_SEMANA</th>\n",
              "      <th>PRECIO_MAXIMO</th>\n",
              "      <th>SABOR_PREFERIDO</th>\n",
              "      <th>DESCRIPCION_SABOR</th>\n",
              "    </tr>\n",
              "  </thead>\n",
              "  <tbody>\n",
              "    <tr>\n",
              "      <th>0</th>\n",
              "      <td>15</td>\n",
              "      <td>18</td>\n",
              "      <td>M</td>\n",
              "      <td>2</td>\n",
              "      <td>S</td>\n",
              "      <td>FACATATIVA</td>\n",
              "      <td>12</td>\n",
              "      <td>1041</td>\n",
              "      <td>CURUBA</td>\n",
              "      <td>BUENO</td>\n",
              "    </tr>\n",
              "    <tr>\n",
              "      <th>1</th>\n",
              "      <td>42</td>\n",
              "      <td>22</td>\n",
              "      <td>M</td>\n",
              "      <td>5</td>\n",
              "      <td>C</td>\n",
              "      <td>FUNZA</td>\n",
              "      <td>14</td>\n",
              "      <td>1325</td>\n",
              "      <td>NARANJA</td>\n",
              "      <td>MALO</td>\n",
              "    </tr>\n",
              "    <tr>\n",
              "      <th>2</th>\n",
              "      <td>17</td>\n",
              "      <td>14</td>\n",
              "      <td>F</td>\n",
              "      <td>3</td>\n",
              "      <td>S</td>\n",
              "      <td>MOSQUERA</td>\n",
              "      <td>8</td>\n",
              "      <td>1499</td>\n",
              "      <td>NARANJA</td>\n",
              "      <td>REGULAR</td>\n",
              "    </tr>\n",
              "    <tr>\n",
              "      <th>3</th>\n",
              "      <td>34</td>\n",
              "      <td>41</td>\n",
              "      <td>M</td>\n",
              "      <td>3</td>\n",
              "      <td>V</td>\n",
              "      <td>MADRID</td>\n",
              "      <td>9</td>\n",
              "      <td>1034</td>\n",
              "      <td>MANDARINA</td>\n",
              "      <td>EXCELENTE</td>\n",
              "    </tr>\n",
              "    <tr>\n",
              "      <th>4</th>\n",
              "      <td>12</td>\n",
              "      <td>22</td>\n",
              "      <td>M</td>\n",
              "      <td>3</td>\n",
              "      <td>S</td>\n",
              "      <td>FACATATIVA</td>\n",
              "      <td>10</td>\n",
              "      <td>1022</td>\n",
              "      <td>MANDARINA</td>\n",
              "      <td>REGULAR</td>\n",
              "    </tr>\n",
              "    <tr>\n",
              "      <th>5</th>\n",
              "      <td>18</td>\n",
              "      <td>15</td>\n",
              "      <td>M</td>\n",
              "      <td>3</td>\n",
              "      <td>S</td>\n",
              "      <td>FACATATIVA</td>\n",
              "      <td>9</td>\n",
              "      <td>1025</td>\n",
              "      <td>NARANJA</td>\n",
              "      <td>REGULAR</td>\n",
              "    </tr>\n",
              "    <tr>\n",
              "      <th>6</th>\n",
              "      <td>30</td>\n",
              "      <td>30</td>\n",
              "      <td>M</td>\n",
              "      <td>2</td>\n",
              "      <td>C</td>\n",
              "      <td>MADRID</td>\n",
              "      <td>2</td>\n",
              "      <td>1111</td>\n",
              "      <td>NARANJA</td>\n",
              "      <td>BUENO</td>\n",
              "    </tr>\n",
              "    <tr>\n",
              "      <th>7</th>\n",
              "      <td>50</td>\n",
              "      <td>12</td>\n",
              "      <td>F</td>\n",
              "      <td>1</td>\n",
              "      <td>S</td>\n",
              "      <td>FACATATIVA</td>\n",
              "      <td>1</td>\n",
              "      <td>1099</td>\n",
              "      <td>MANDARINA</td>\n",
              "      <td>BUENO</td>\n",
              "    </tr>\n",
              "  </tbody>\n",
              "</table>\n",
              "</div>\n",
              "    <div class=\"colab-df-buttons\">\n",
              "\n",
              "  <div class=\"colab-df-container\">\n",
              "    <button class=\"colab-df-convert\" onclick=\"convertToInteractive('df-99fe5428-7572-4579-9551-260bf23ae93d')\"\n",
              "            title=\"Convert this dataframe to an interactive table.\"\n",
              "            style=\"display:none;\">\n",
              "\n",
              "  <svg xmlns=\"http://www.w3.org/2000/svg\" height=\"24px\" viewBox=\"0 -960 960 960\">\n",
              "    <path d=\"M120-120v-720h720v720H120Zm60-500h600v-160H180v160Zm220 220h160v-160H400v160Zm0 220h160v-160H400v160ZM180-400h160v-160H180v160Zm440 0h160v-160H620v160ZM180-180h160v-160H180v160Zm440 0h160v-160H620v160Z\"/>\n",
              "  </svg>\n",
              "    </button>\n",
              "\n",
              "  <style>\n",
              "    .colab-df-container {\n",
              "      display:flex;\n",
              "      gap: 12px;\n",
              "    }\n",
              "\n",
              "    .colab-df-convert {\n",
              "      background-color: #E8F0FE;\n",
              "      border: none;\n",
              "      border-radius: 50%;\n",
              "      cursor: pointer;\n",
              "      display: none;\n",
              "      fill: #1967D2;\n",
              "      height: 32px;\n",
              "      padding: 0 0 0 0;\n",
              "      width: 32px;\n",
              "    }\n",
              "\n",
              "    .colab-df-convert:hover {\n",
              "      background-color: #E2EBFA;\n",
              "      box-shadow: 0px 1px 2px rgba(60, 64, 67, 0.3), 0px 1px 3px 1px rgba(60, 64, 67, 0.15);\n",
              "      fill: #174EA6;\n",
              "    }\n",
              "\n",
              "    .colab-df-buttons div {\n",
              "      margin-bottom: 4px;\n",
              "    }\n",
              "\n",
              "    [theme=dark] .colab-df-convert {\n",
              "      background-color: #3B4455;\n",
              "      fill: #D2E3FC;\n",
              "    }\n",
              "\n",
              "    [theme=dark] .colab-df-convert:hover {\n",
              "      background-color: #434B5C;\n",
              "      box-shadow: 0px 1px 3px 1px rgba(0, 0, 0, 0.15);\n",
              "      filter: drop-shadow(0px 1px 2px rgba(0, 0, 0, 0.3));\n",
              "      fill: #FFFFFF;\n",
              "    }\n",
              "  </style>\n",
              "\n",
              "    <script>\n",
              "      const buttonEl =\n",
              "        document.querySelector('#df-99fe5428-7572-4579-9551-260bf23ae93d button.colab-df-convert');\n",
              "      buttonEl.style.display =\n",
              "        google.colab.kernel.accessAllowed ? 'block' : 'none';\n",
              "\n",
              "      async function convertToInteractive(key) {\n",
              "        const element = document.querySelector('#df-99fe5428-7572-4579-9551-260bf23ae93d');\n",
              "        const dataTable =\n",
              "          await google.colab.kernel.invokeFunction('convertToInteractive',\n",
              "                                                    [key], {});\n",
              "        if (!dataTable) return;\n",
              "\n",
              "        const docLinkHtml = 'Like what you see? Visit the ' +\n",
              "          '<a target=\"_blank\" href=https://colab.research.google.com/notebooks/data_table.ipynb>data table notebook</a>'\n",
              "          + ' to learn more about interactive tables.';\n",
              "        element.innerHTML = '';\n",
              "        dataTable['output_type'] = 'display_data';\n",
              "        await google.colab.output.renderOutput(dataTable, element);\n",
              "        const docLink = document.createElement('div');\n",
              "        docLink.innerHTML = docLinkHtml;\n",
              "        element.appendChild(docLink);\n",
              "      }\n",
              "    </script>\n",
              "  </div>\n",
              "\n",
              "\n",
              "<div id=\"df-53e58cf3-91bc-4e0a-a02f-689d8d5c907a\">\n",
              "  <button class=\"colab-df-quickchart\" onclick=\"quickchart('df-53e58cf3-91bc-4e0a-a02f-689d8d5c907a')\"\n",
              "            title=\"Suggest charts.\"\n",
              "            style=\"display:none;\">\n",
              "\n",
              "<svg xmlns=\"http://www.w3.org/2000/svg\" height=\"24px\"viewBox=\"0 0 24 24\"\n",
              "     width=\"24px\">\n",
              "    <g>\n",
              "        <path d=\"M19 3H5c-1.1 0-2 .9-2 2v14c0 1.1.9 2 2 2h14c1.1 0 2-.9 2-2V5c0-1.1-.9-2-2-2zM9 17H7v-7h2v7zm4 0h-2V7h2v10zm4 0h-2v-4h2v4z\"/>\n",
              "    </g>\n",
              "</svg>\n",
              "  </button>\n",
              "\n",
              "<style>\n",
              "  .colab-df-quickchart {\n",
              "      --bg-color: #E8F0FE;\n",
              "      --fill-color: #1967D2;\n",
              "      --hover-bg-color: #E2EBFA;\n",
              "      --hover-fill-color: #174EA6;\n",
              "      --disabled-fill-color: #AAA;\n",
              "      --disabled-bg-color: #DDD;\n",
              "  }\n",
              "\n",
              "  [theme=dark] .colab-df-quickchart {\n",
              "      --bg-color: #3B4455;\n",
              "      --fill-color: #D2E3FC;\n",
              "      --hover-bg-color: #434B5C;\n",
              "      --hover-fill-color: #FFFFFF;\n",
              "      --disabled-bg-color: #3B4455;\n",
              "      --disabled-fill-color: #666;\n",
              "  }\n",
              "\n",
              "  .colab-df-quickchart {\n",
              "    background-color: var(--bg-color);\n",
              "    border: none;\n",
              "    border-radius: 50%;\n",
              "    cursor: pointer;\n",
              "    display: none;\n",
              "    fill: var(--fill-color);\n",
              "    height: 32px;\n",
              "    padding: 0;\n",
              "    width: 32px;\n",
              "  }\n",
              "\n",
              "  .colab-df-quickchart:hover {\n",
              "    background-color: var(--hover-bg-color);\n",
              "    box-shadow: 0 1px 2px rgba(60, 64, 67, 0.3), 0 1px 3px 1px rgba(60, 64, 67, 0.15);\n",
              "    fill: var(--button-hover-fill-color);\n",
              "  }\n",
              "\n",
              "  .colab-df-quickchart-complete:disabled,\n",
              "  .colab-df-quickchart-complete:disabled:hover {\n",
              "    background-color: var(--disabled-bg-color);\n",
              "    fill: var(--disabled-fill-color);\n",
              "    box-shadow: none;\n",
              "  }\n",
              "\n",
              "  .colab-df-spinner {\n",
              "    border: 2px solid var(--fill-color);\n",
              "    border-color: transparent;\n",
              "    border-bottom-color: var(--fill-color);\n",
              "    animation:\n",
              "      spin 1s steps(1) infinite;\n",
              "  }\n",
              "\n",
              "  @keyframes spin {\n",
              "    0% {\n",
              "      border-color: transparent;\n",
              "      border-bottom-color: var(--fill-color);\n",
              "      border-left-color: var(--fill-color);\n",
              "    }\n",
              "    20% {\n",
              "      border-color: transparent;\n",
              "      border-left-color: var(--fill-color);\n",
              "      border-top-color: var(--fill-color);\n",
              "    }\n",
              "    30% {\n",
              "      border-color: transparent;\n",
              "      border-left-color: var(--fill-color);\n",
              "      border-top-color: var(--fill-color);\n",
              "      border-right-color: var(--fill-color);\n",
              "    }\n",
              "    40% {\n",
              "      border-color: transparent;\n",
              "      border-right-color: var(--fill-color);\n",
              "      border-top-color: var(--fill-color);\n",
              "    }\n",
              "    60% {\n",
              "      border-color: transparent;\n",
              "      border-right-color: var(--fill-color);\n",
              "    }\n",
              "    80% {\n",
              "      border-color: transparent;\n",
              "      border-right-color: var(--fill-color);\n",
              "      border-bottom-color: var(--fill-color);\n",
              "    }\n",
              "    90% {\n",
              "      border-color: transparent;\n",
              "      border-bottom-color: var(--fill-color);\n",
              "    }\n",
              "  }\n",
              "</style>\n",
              "\n",
              "  <script>\n",
              "    async function quickchart(key) {\n",
              "      const quickchartButtonEl =\n",
              "        document.querySelector('#' + key + ' button');\n",
              "      quickchartButtonEl.disabled = true;  // To prevent multiple clicks.\n",
              "      quickchartButtonEl.classList.add('colab-df-spinner');\n",
              "      try {\n",
              "        const charts = await google.colab.kernel.invokeFunction(\n",
              "            'suggestCharts', [key], {});\n",
              "      } catch (error) {\n",
              "        console.error('Error during call to suggestCharts:', error);\n",
              "      }\n",
              "      quickchartButtonEl.classList.remove('colab-df-spinner');\n",
              "      quickchartButtonEl.classList.add('colab-df-quickchart-complete');\n",
              "    }\n",
              "    (() => {\n",
              "      let quickchartButtonEl =\n",
              "        document.querySelector('#df-53e58cf3-91bc-4e0a-a02f-689d8d5c907a button');\n",
              "      quickchartButtonEl.style.display =\n",
              "        google.colab.kernel.accessAllowed ? 'block' : 'none';\n",
              "    })();\n",
              "  </script>\n",
              "</div>\n",
              "    </div>\n",
              "  </div>\n"
            ]
          },
          "metadata": {},
          "execution_count": 43
        }
      ]
    },
    {
      "cell_type": "code",
      "source": [
        " from google.colab import files\n",
        " load=files.upload()\n"
      ],
      "metadata": {
        "colab": {
          "base_uri": "https://localhost:8080/",
          "height": 73
        },
        "id": "xpRqppcaSxFS",
        "outputId": "b75e6e69-5d09-4f15-d604-d87029109369"
      },
      "execution_count": null,
      "outputs": [
        {
          "output_type": "display_data",
          "data": {
            "text/plain": [
              "<IPython.core.display.HTML object>"
            ],
            "text/html": [
              "\n",
              "     <input type=\"file\" id=\"files-bc910bcd-7170-4c37-9347-1fda42dbc1bd\" name=\"files[]\" multiple disabled\n",
              "        style=\"border:none\" />\n",
              "     <output id=\"result-bc910bcd-7170-4c37-9347-1fda42dbc1bd\">\n",
              "      Upload widget is only available when the cell has been executed in the\n",
              "      current browser session. Please rerun this cell to enable.\n",
              "      </output>\n",
              "      <script>// Copyright 2017 Google LLC\n",
              "//\n",
              "// Licensed under the Apache License, Version 2.0 (the \"License\");\n",
              "// you may not use this file except in compliance with the License.\n",
              "// You may obtain a copy of the License at\n",
              "//\n",
              "//      http://www.apache.org/licenses/LICENSE-2.0\n",
              "//\n",
              "// Unless required by applicable law or agreed to in writing, software\n",
              "// distributed under the License is distributed on an \"AS IS\" BASIS,\n",
              "// WITHOUT WARRANTIES OR CONDITIONS OF ANY KIND, either express or implied.\n",
              "// See the License for the specific language governing permissions and\n",
              "// limitations under the License.\n",
              "\n",
              "/**\n",
              " * @fileoverview Helpers for google.colab Python module.\n",
              " */\n",
              "(function(scope) {\n",
              "function span(text, styleAttributes = {}) {\n",
              "  const element = document.createElement('span');\n",
              "  element.textContent = text;\n",
              "  for (const key of Object.keys(styleAttributes)) {\n",
              "    element.style[key] = styleAttributes[key];\n",
              "  }\n",
              "  return element;\n",
              "}\n",
              "\n",
              "// Max number of bytes which will be uploaded at a time.\n",
              "const MAX_PAYLOAD_SIZE = 100 * 1024;\n",
              "\n",
              "function _uploadFiles(inputId, outputId) {\n",
              "  const steps = uploadFilesStep(inputId, outputId);\n",
              "  const outputElement = document.getElementById(outputId);\n",
              "  // Cache steps on the outputElement to make it available for the next call\n",
              "  // to uploadFilesContinue from Python.\n",
              "  outputElement.steps = steps;\n",
              "\n",
              "  return _uploadFilesContinue(outputId);\n",
              "}\n",
              "\n",
              "// This is roughly an async generator (not supported in the browser yet),\n",
              "// where there are multiple asynchronous steps and the Python side is going\n",
              "// to poll for completion of each step.\n",
              "// This uses a Promise to block the python side on completion of each step,\n",
              "// then passes the result of the previous step as the input to the next step.\n",
              "function _uploadFilesContinue(outputId) {\n",
              "  const outputElement = document.getElementById(outputId);\n",
              "  const steps = outputElement.steps;\n",
              "\n",
              "  const next = steps.next(outputElement.lastPromiseValue);\n",
              "  return Promise.resolve(next.value.promise).then((value) => {\n",
              "    // Cache the last promise value to make it available to the next\n",
              "    // step of the generator.\n",
              "    outputElement.lastPromiseValue = value;\n",
              "    return next.value.response;\n",
              "  });\n",
              "}\n",
              "\n",
              "/**\n",
              " * Generator function which is called between each async step of the upload\n",
              " * process.\n",
              " * @param {string} inputId Element ID of the input file picker element.\n",
              " * @param {string} outputId Element ID of the output display.\n",
              " * @return {!Iterable<!Object>} Iterable of next steps.\n",
              " */\n",
              "function* uploadFilesStep(inputId, outputId) {\n",
              "  const inputElement = document.getElementById(inputId);\n",
              "  inputElement.disabled = false;\n",
              "\n",
              "  const outputElement = document.getElementById(outputId);\n",
              "  outputElement.innerHTML = '';\n",
              "\n",
              "  const pickedPromise = new Promise((resolve) => {\n",
              "    inputElement.addEventListener('change', (e) => {\n",
              "      resolve(e.target.files);\n",
              "    });\n",
              "  });\n",
              "\n",
              "  const cancel = document.createElement('button');\n",
              "  inputElement.parentElement.appendChild(cancel);\n",
              "  cancel.textContent = 'Cancel upload';\n",
              "  const cancelPromise = new Promise((resolve) => {\n",
              "    cancel.onclick = () => {\n",
              "      resolve(null);\n",
              "    };\n",
              "  });\n",
              "\n",
              "  // Wait for the user to pick the files.\n",
              "  const files = yield {\n",
              "    promise: Promise.race([pickedPromise, cancelPromise]),\n",
              "    response: {\n",
              "      action: 'starting',\n",
              "    }\n",
              "  };\n",
              "\n",
              "  cancel.remove();\n",
              "\n",
              "  // Disable the input element since further picks are not allowed.\n",
              "  inputElement.disabled = true;\n",
              "\n",
              "  if (!files) {\n",
              "    return {\n",
              "      response: {\n",
              "        action: 'complete',\n",
              "      }\n",
              "    };\n",
              "  }\n",
              "\n",
              "  for (const file of files) {\n",
              "    const li = document.createElement('li');\n",
              "    li.append(span(file.name, {fontWeight: 'bold'}));\n",
              "    li.append(span(\n",
              "        `(${file.type || 'n/a'}) - ${file.size} bytes, ` +\n",
              "        `last modified: ${\n",
              "            file.lastModifiedDate ? file.lastModifiedDate.toLocaleDateString() :\n",
              "                                    'n/a'} - `));\n",
              "    const percent = span('0% done');\n",
              "    li.appendChild(percent);\n",
              "\n",
              "    outputElement.appendChild(li);\n",
              "\n",
              "    const fileDataPromise = new Promise((resolve) => {\n",
              "      const reader = new FileReader();\n",
              "      reader.onload = (e) => {\n",
              "        resolve(e.target.result);\n",
              "      };\n",
              "      reader.readAsArrayBuffer(file);\n",
              "    });\n",
              "    // Wait for the data to be ready.\n",
              "    let fileData = yield {\n",
              "      promise: fileDataPromise,\n",
              "      response: {\n",
              "        action: 'continue',\n",
              "      }\n",
              "    };\n",
              "\n",
              "    // Use a chunked sending to avoid message size limits. See b/62115660.\n",
              "    let position = 0;\n",
              "    do {\n",
              "      const length = Math.min(fileData.byteLength - position, MAX_PAYLOAD_SIZE);\n",
              "      const chunk = new Uint8Array(fileData, position, length);\n",
              "      position += length;\n",
              "\n",
              "      const base64 = btoa(String.fromCharCode.apply(null, chunk));\n",
              "      yield {\n",
              "        response: {\n",
              "          action: 'append',\n",
              "          file: file.name,\n",
              "          data: base64,\n",
              "        },\n",
              "      };\n",
              "\n",
              "      let percentDone = fileData.byteLength === 0 ?\n",
              "          100 :\n",
              "          Math.round((position / fileData.byteLength) * 100);\n",
              "      percent.textContent = `${percentDone}% done`;\n",
              "\n",
              "    } while (position < fileData.byteLength);\n",
              "  }\n",
              "\n",
              "  // All done.\n",
              "  yield {\n",
              "    response: {\n",
              "      action: 'complete',\n",
              "    }\n",
              "  };\n",
              "}\n",
              "\n",
              "scope.google = scope.google || {};\n",
              "scope.google.colab = scope.google.colab || {};\n",
              "scope.google.colab._files = {\n",
              "  _uploadFiles,\n",
              "  _uploadFilesContinue,\n",
              "};\n",
              "})(self);\n",
              "</script> "
            ]
          },
          "metadata": {}
        },
        {
          "output_type": "stream",
          "name": "stdout",
          "text": [
            "Saving Tabla-de-Análisis-de-datos-con-Python-..csv to Tabla-de-Análisis-de-datos-con-Python-..csv\n"
          ]
        }
      ]
    },
    {
      "cell_type": "code",
      "source": [
        " from google.colab import files\n",
        " load=files.upload()\n"
      ],
      "metadata": {
        "colab": {
          "base_uri": "https://localhost:8080/",
          "height": 73
        },
        "id": "aTrQRmJy8DcN",
        "outputId": "07208150-ffca-421c-c50e-36ac62efc4fb"
      },
      "execution_count": null,
      "outputs": [
        {
          "output_type": "display_data",
          "data": {
            "text/plain": [
              "<IPython.core.display.HTML object>"
            ],
            "text/html": [
              "\n",
              "     <input type=\"file\" id=\"files-327d626e-c062-4b57-bd8b-8226adda09b5\" name=\"files[]\" multiple disabled\n",
              "        style=\"border:none\" />\n",
              "     <output id=\"result-327d626e-c062-4b57-bd8b-8226adda09b5\">\n",
              "      Upload widget is only available when the cell has been executed in the\n",
              "      current browser session. Please rerun this cell to enable.\n",
              "      </output>\n",
              "      <script>// Copyright 2017 Google LLC\n",
              "//\n",
              "// Licensed under the Apache License, Version 2.0 (the \"License\");\n",
              "// you may not use this file except in compliance with the License.\n",
              "// You may obtain a copy of the License at\n",
              "//\n",
              "//      http://www.apache.org/licenses/LICENSE-2.0\n",
              "//\n",
              "// Unless required by applicable law or agreed to in writing, software\n",
              "// distributed under the License is distributed on an \"AS IS\" BASIS,\n",
              "// WITHOUT WARRANTIES OR CONDITIONS OF ANY KIND, either express or implied.\n",
              "// See the License for the specific language governing permissions and\n",
              "// limitations under the License.\n",
              "\n",
              "/**\n",
              " * @fileoverview Helpers for google.colab Python module.\n",
              " */\n",
              "(function(scope) {\n",
              "function span(text, styleAttributes = {}) {\n",
              "  const element = document.createElement('span');\n",
              "  element.textContent = text;\n",
              "  for (const key of Object.keys(styleAttributes)) {\n",
              "    element.style[key] = styleAttributes[key];\n",
              "  }\n",
              "  return element;\n",
              "}\n",
              "\n",
              "// Max number of bytes which will be uploaded at a time.\n",
              "const MAX_PAYLOAD_SIZE = 100 * 1024;\n",
              "\n",
              "function _uploadFiles(inputId, outputId) {\n",
              "  const steps = uploadFilesStep(inputId, outputId);\n",
              "  const outputElement = document.getElementById(outputId);\n",
              "  // Cache steps on the outputElement to make it available for the next call\n",
              "  // to uploadFilesContinue from Python.\n",
              "  outputElement.steps = steps;\n",
              "\n",
              "  return _uploadFilesContinue(outputId);\n",
              "}\n",
              "\n",
              "// This is roughly an async generator (not supported in the browser yet),\n",
              "// where there are multiple asynchronous steps and the Python side is going\n",
              "// to poll for completion of each step.\n",
              "// This uses a Promise to block the python side on completion of each step,\n",
              "// then passes the result of the previous step as the input to the next step.\n",
              "function _uploadFilesContinue(outputId) {\n",
              "  const outputElement = document.getElementById(outputId);\n",
              "  const steps = outputElement.steps;\n",
              "\n",
              "  const next = steps.next(outputElement.lastPromiseValue);\n",
              "  return Promise.resolve(next.value.promise).then((value) => {\n",
              "    // Cache the last promise value to make it available to the next\n",
              "    // step of the generator.\n",
              "    outputElement.lastPromiseValue = value;\n",
              "    return next.value.response;\n",
              "  });\n",
              "}\n",
              "\n",
              "/**\n",
              " * Generator function which is called between each async step of the upload\n",
              " * process.\n",
              " * @param {string} inputId Element ID of the input file picker element.\n",
              " * @param {string} outputId Element ID of the output display.\n",
              " * @return {!Iterable<!Object>} Iterable of next steps.\n",
              " */\n",
              "function* uploadFilesStep(inputId, outputId) {\n",
              "  const inputElement = document.getElementById(inputId);\n",
              "  inputElement.disabled = false;\n",
              "\n",
              "  const outputElement = document.getElementById(outputId);\n",
              "  outputElement.innerHTML = '';\n",
              "\n",
              "  const pickedPromise = new Promise((resolve) => {\n",
              "    inputElement.addEventListener('change', (e) => {\n",
              "      resolve(e.target.files);\n",
              "    });\n",
              "  });\n",
              "\n",
              "  const cancel = document.createElement('button');\n",
              "  inputElement.parentElement.appendChild(cancel);\n",
              "  cancel.textContent = 'Cancel upload';\n",
              "  const cancelPromise = new Promise((resolve) => {\n",
              "    cancel.onclick = () => {\n",
              "      resolve(null);\n",
              "    };\n",
              "  });\n",
              "\n",
              "  // Wait for the user to pick the files.\n",
              "  const files = yield {\n",
              "    promise: Promise.race([pickedPromise, cancelPromise]),\n",
              "    response: {\n",
              "      action: 'starting',\n",
              "    }\n",
              "  };\n",
              "\n",
              "  cancel.remove();\n",
              "\n",
              "  // Disable the input element since further picks are not allowed.\n",
              "  inputElement.disabled = true;\n",
              "\n",
              "  if (!files) {\n",
              "    return {\n",
              "      response: {\n",
              "        action: 'complete',\n",
              "      }\n",
              "    };\n",
              "  }\n",
              "\n",
              "  for (const file of files) {\n",
              "    const li = document.createElement('li');\n",
              "    li.append(span(file.name, {fontWeight: 'bold'}));\n",
              "    li.append(span(\n",
              "        `(${file.type || 'n/a'}) - ${file.size} bytes, ` +\n",
              "        `last modified: ${\n",
              "            file.lastModifiedDate ? file.lastModifiedDate.toLocaleDateString() :\n",
              "                                    'n/a'} - `));\n",
              "    const percent = span('0% done');\n",
              "    li.appendChild(percent);\n",
              "\n",
              "    outputElement.appendChild(li);\n",
              "\n",
              "    const fileDataPromise = new Promise((resolve) => {\n",
              "      const reader = new FileReader();\n",
              "      reader.onload = (e) => {\n",
              "        resolve(e.target.result);\n",
              "      };\n",
              "      reader.readAsArrayBuffer(file);\n",
              "    });\n",
              "    // Wait for the data to be ready.\n",
              "    let fileData = yield {\n",
              "      promise: fileDataPromise,\n",
              "      response: {\n",
              "        action: 'continue',\n",
              "      }\n",
              "    };\n",
              "\n",
              "    // Use a chunked sending to avoid message size limits. See b/62115660.\n",
              "    let position = 0;\n",
              "    do {\n",
              "      const length = Math.min(fileData.byteLength - position, MAX_PAYLOAD_SIZE);\n",
              "      const chunk = new Uint8Array(fileData, position, length);\n",
              "      position += length;\n",
              "\n",
              "      const base64 = btoa(String.fromCharCode.apply(null, chunk));\n",
              "      yield {\n",
              "        response: {\n",
              "          action: 'append',\n",
              "          file: file.name,\n",
              "          data: base64,\n",
              "        },\n",
              "      };\n",
              "\n",
              "      let percentDone = fileData.byteLength === 0 ?\n",
              "          100 :\n",
              "          Math.round((position / fileData.byteLength) * 100);\n",
              "      percent.textContent = `${percentDone}% done`;\n",
              "\n",
              "    } while (position < fileData.byteLength);\n",
              "  }\n",
              "\n",
              "  // All done.\n",
              "  yield {\n",
              "    response: {\n",
              "      action: 'complete',\n",
              "    }\n",
              "  };\n",
              "}\n",
              "\n",
              "scope.google = scope.google || {};\n",
              "scope.google.colab = scope.google.colab || {};\n",
              "scope.google.colab._files = {\n",
              "  _uploadFiles,\n",
              "  _uploadFilesContinue,\n",
              "};\n",
              "})(self);\n",
              "</script> "
            ]
          },
          "metadata": {}
        },
        {
          "output_type": "stream",
          "name": "stdout",
          "text": [
            "Saving Tabla-de-Análisis-de-datos-con-Python-..csv to Tabla-de-Análisis-de-datos-con-Python-..csv\n"
          ]
        }
      ]
    },
    {
      "cell_type": "code",
      "source": [
        "from pandas.core.frame import DataFrame\n",
        "import pandas as pd\n",
        "import matplotlib.pyplot as plt\n",
        "\n",
        "df=pd.read_csvdf=pd.read_csv('Tabla-de-Análisis-de-datos-con-Python-..csv')\n",
        "\n",
        "df\n",
        "# x = df['ZONA']\n",
        "# y= df['ENCUESTA']\n",
        "\n",
        "\n",
        "s = df.loc[(df['SEXO'] == 'M') & (df['SABOR_PREFERIDO'] == 'CURUBA'), ['ENCUESTA']]\n",
        "print(\"Las encuestas realizadas a M DE CURUBA\", s.sum())\n",
        "\n",
        "s = df.loc[(df['SEXO'] == 'F') & (df['SABOR_PREFERIDO'] == 'CURUBA'), ['ENCUESTA']]\n",
        "print(\"Las encuestas realizadas a f DE\", s.sum())\n",
        "\n",
        "s = df.loc[(df['SEXO'] == 'M') & (df['SABOR_PREFERIDO'] == 'NARANJA'), ['ENCUESTA']]\n",
        "print(\"Las encuestas realizadas a M DE NARANJA\", s.sum())\n",
        "\n",
        "s = df.loc[(df['SEXO'] == 'F') & (df['SABOR_PREFERIDO'] == 'NARANJA'), ['ENCUESTA']]\n",
        "print(\"Las encuestas realizadas a F DE NARANJA\", s.sum())\n",
        "\n",
        "s = df.loc[(df['SEXO'] == 'M') & (df['SABOR_PREFERIDO'] == 'MANDARINA'), ['ENCUESTA']]\n",
        "print(\"Las encuestas realizadas a M DE MANDARINA\", s.sum())\n",
        "s = df.loc[(df['SEXO'] == 'F') & (df['SABOR_PREFERIDO'] == 'MANDARINA'), ['ENCUESTA']]\n",
        "print(\"Las encuestas realizadas a F DE MANDARINA\", s.sum())\n",
        "\n"
      ],
      "metadata": {
        "colab": {
          "base_uri": "https://localhost:8080/"
        },
        "id": "sIUHL060S3Jb",
        "outputId": "20cd00f2-9bde-4dcc-acbe-889c99b5d68a"
      },
      "execution_count": null,
      "outputs": [
        {
          "output_type": "stream",
          "name": "stdout",
          "text": [
            "Las encuestas realizadas a M DE CURUBA ENCUESTA    15\n",
            "dtype: int64\n",
            "Las encuestas realizadas a f DE ENCUESTA    0.0\n",
            "dtype: float64\n",
            "Las encuestas realizadas a M DE NARANJA ENCUESTA    90\n",
            "dtype: int64\n",
            "Las encuestas realizadas a F DE NARANJA ENCUESTA    17\n",
            "dtype: int64\n",
            "Las encuestas realizadas a M DE MANDARINA ENCUESTA    46\n",
            "dtype: int64\n",
            "Las encuestas realizadas a F DE MANDARINA ENCUESTA    50\n",
            "dtype: int64\n"
          ]
        }
      ]
    },
    {
      "cell_type": "code",
      "source": [
        "x = df['ZONA']\n",
        "y= df['ENCUESTA']\n",
        "\n",
        "facatativa=df.loc[df[ 'ZONA' ]==\"FACATATIVA\", ['ENCUESTA']]\n",
        "print(\"las encuestas realizadas en facatativa fueron\", facatativa.sum())\n",
        "\n",
        "FUNZA=df.loc[df['ZONA']==\"FUNZA\", ['ENCUESTA']]\n",
        "print(\"las encuestas realizadas en FUNZA fueron\",FUNZA.sum())\n",
        "\n",
        "MOSQUERA=df.loc [df['ZONA']==\"MOSQUERA\", ['ENCUESTA']]\n",
        "print(\"las encuestas realizadas en HOSQUERA fueron\" ,MOSQUERA.sum())\n",
        "\n",
        "madrid = df.loc[df['ZONA'].str.contains ('MADRID'), ['ENCUESTA']]\n",
        "print(\"Las encuestas realizadas en MADRID fueron\", madrid.sum())\n",
        "\n",
        "plt.bar(x,y, color = 'pink')\n",
        "plt.xlabel(\"ZONA\")\n",
        "plt.ylabel(\"ENCUESTA\")\n",
        "plt.show()\n",
        "\n"
      ],
      "metadata": {
        "colab": {
          "base_uri": "https://localhost:8080/",
          "height": 588
        },
        "id": "y5ZWwU2iQobg",
        "outputId": "d6e226ef-0106-41b9-9e25-f1b1fd38de7a"
      },
      "execution_count": null,
      "outputs": [
        {
          "output_type": "stream",
          "name": "stdout",
          "text": [
            "las encuestas realizadas en facatativa fueron ENCUESTA    95\n",
            "dtype: int64\n",
            "las encuestas realizadas en FUNZA fueron ENCUESTA    42\n",
            "dtype: int64\n",
            "las encuestas realizadas en HOSQUERA fueron ENCUESTA    17\n",
            "dtype: int64\n",
            "Las encuestas realizadas en MADRID fueron ENCUESTA    64\n",
            "dtype: int64\n"
          ]
        },
        {
          "output_type": "display_data",
          "data": {
            "text/plain": [
              "<Figure size 640x480 with 1 Axes>"
            ],
            "image/png": "[encoded data removed]"
          },
          "metadata": {}
        }
      ]
    },
    {
      "cell_type": "code",
      "source": [],
      "metadata": {
        "id": "JOgNrK07fJ5F"
      },
      "execution_count": null,
      "outputs": []
    },
    {
      "cell_type": "code",
      "source": [
        "import matplotlib.pyplot as plt\n",
        "\n",
        "x = df['ESTADO CIVIL']\n",
        "y = df['ENCUESTA']\n",
        "\n",
        "s_sum = df.loc[df['ESTADO CIVIL'] == \"S\", 'ENCUESTA'].sum()\n",
        "v_sum = df.loc[df['ESTADO CIVIL'] == \"V\", 'ENCUESTA'].sum()\n",
        "c_sum = df.loc[df['ESTADO CIVIL'] == \"C\", 'ENCUESTA'].sum()\n",
        "print(s_sum,v_sum,c_sum)\n",
        "\n",
        "plt.bar(['S', 'V', 'C'], [s_sum, v_sum, c_sum], color='pink')\n",
        "plt.xlabel(\"ESTADO CIVIL\")\n",
        "plt.ylabel(\"ENCUESTA\")\n",
        "plt.ylim(0,200)\n",
        "plt.show()"
      ],
      "metadata": {
        "colab": {
          "base_uri": "https://localhost:8080/",
          "height": 472
        },
        "id": "B1iCZEHDVCpV",
        "outputId": "a7775416-5382-4766-87fa-88377952964b"
      },
      "execution_count": null,
      "outputs": [
        {
          "output_type": "stream",
          "name": "stdout",
          "text": [
            "112 34 72\n"
          ]
        },
        {
          "output_type": "display_data",
          "data": {
            "text/plain": [
              "<Figure size 640x480 with 1 Axes>"
            ],
            "image/png": "[encoded data removed]"
          },
          "metadata": {}
        }
      ]
    },
    {
      "cell_type": "code",
      "source": [
        "x = df['SEXO'] + ' - ' + df['ZONA']\n",
        "y = df['ENCUESTA']\n",
        "\n",
        "\n",
        "s = df.loc[(df['SEXO'] == 'M') & (df['ZONA'] == 'FUNZA'), ['ENCUESTA']]\n",
        "print(\"Las encuestas realizadas a M fueron\", s.sum())\n",
        "\n",
        "s = df.loc[(df['SEXO'] == 'F') & (df['ZONA'] == 'FACATATIVA'), ['ENCUESTA']]\n",
        "print(\"Las encuestas realizadas a f fueron\", s.sum())\n",
        "\n",
        "s = df.loc[(df['SEXO'] == 'M') & (df['ZONA'] == 'FACATATIVA'), ['ENCUESTA']]\n",
        "print(\"Las encuestas realizadas a M fueron\", s.sum())\n",
        "\n",
        "s = df.loc[(df['SEXO'] == 'M') & (df['ZONA'].str.contains('MADRID')), ['ENCUESTA']]\n",
        "print(\"Las encuestas realizadas a S fueron\", s.sum())\n",
        "\n",
        "s = df.loc[(df['SEXO'] == 'F') & (df['ZONA'] == 'MOSQUERA'), ['ENCUESTA']]\n",
        "print(\"Las encuestas realizadas a F fueron\", s.sum())\n",
        "\n",
        "plt.bar(x,y, color = 'pink')\n",
        "plt.xlabel(\"SEXO - ZONA\")\n",
        "plt.ylabel(\"ENCUESTA\")\n",
        "plt.xticks(rotation=90)\n",
        "plt.show()"
      ],
      "metadata": {
        "colab": {
          "base_uri": "https://localhost:8080/",
          "height": 716
        },
        "id": "hw9f14v6VpTC",
        "outputId": "17bda434-5c44-4167-ef10-eb46bf5fd803"
      },
      "execution_count": null,
      "outputs": [
        {
          "output_type": "stream",
          "name": "stdout",
          "text": [
            "Las encuestas realizadas a M fueron ENCUESTA    42\n",
            "dtype: int64\n",
            "Las encuestas realizadas a f fueron ENCUESTA    50\n",
            "dtype: int64\n",
            "Las encuestas realizadas a M fueron ENCUESTA    45\n",
            "dtype: int64\n",
            "Las encuestas realizadas a S fueron ENCUESTA    64\n",
            "dtype: int64\n",
            "Las encuestas realizadas a F fueron ENCUESTA    17\n",
            "dtype: int64\n"
          ]
        },
        {
          "output_type": "display_data",
          "data": {
            "text/plain": [
              "<Figure size 640x480 with 1 Axes>"
            ],
            "image/png": "[encoded data removed]"
          },
          "metadata": {}
        }
      ]
    },
    {
      "cell_type": "code",
      "source": [
        "x = df['SEXO'] + ' - ' + df['ESTADO CIVIL']\n",
        "y = df['EDAD']\n",
        "\n",
        "edad_promedio = df.groupby(['SEXO', 'ESTADO CIVIL'])['EDAD'].mean()\n",
        "print(edad_promedio)\n",
        "\n",
        "plt.bar(x,y, color = 'pink')\n",
        "plt.xlabel(\"SEXO - ESTADO CIVIL\")\n",
        "plt.ylabel(\"EDAD\")\n",
        "plt.xticks(rotation=90)\n",
        "plt.show()\n",
        "\n"
      ],
      "metadata": {
        "colab": {
          "base_uri": "https://localhost:8080/",
          "height": 575
        },
        "id": "xxzRcmP9Wbnn",
        "outputId": "2ed08329-09b7-49a1-9efa-b0818fa68226"
      },
      "execution_count": null,
      "outputs": [
        {
          "output_type": "stream",
          "name": "stdout",
          "text": [
            "SEXO  ESTADO CIVIL\n",
            "F     S               13.000000\n",
            "M     C               26.000000\n",
            "      S               18.333333\n",
            "      V               41.000000\n",
            "Name: EDAD, dtype: float64\n"
          ]
        },
        {
          "output_type": "display_data",
          "data": {
            "text/plain": [
              "<Figure size 640x480 with 1 Axes>"
            ],
            "image/png": "[encoded data removed]"
          },
          "metadata": {}
        }
      ]
    },
    {
      "cell_type": "code",
      "source": [
        "x = df['SEXO'] + ' - ' + df['SABOR_PREFERIDO']\n",
        "y = df['ENCUESTA']\n",
        "\n",
        "s = df.loc[(df['SEXO'] == 'M') & (df['SABOR_PREFERIDO'] == 'CURUBA'), ['ENCUESTA']]\n",
        "print(\"Las encuestas realizadas a M DE CURUBA\", s.sum())\n",
        "\n",
        "s = df.loc[(df['SEXO'] == 'F') & (df['SABOR_PREFERIDO'] == 'CURUBA'), ['ENCUESTA']]\n",
        "print(\"Las encuestas realizadas a f DE\", s.sum())\n",
        "\n",
        "s = df.loc[(df['SEXO'] == 'M') & (df['SABOR_PREFERIDO'] == 'NARANJA'), ['ENCUESTA']]\n",
        "print(\"Las encuestas realizadas a M DE NARANJA\", s.sum())\n",
        "\n",
        "s = df.loc[(df['SEXO'] == 'F') & (df['SABOR_PREFERIDO'] == 'NARANJA'), ['ENCUESTA']]\n",
        "print(\"Las encuestas realizadas a F DE NARANJA\", s.sum())\n",
        "\n",
        "s = df.loc[(df['SEXO'] == 'M') & (df['SABOR_PREFERIDO'] == 'MANDARINA'), ['ENCUESTA']]\n",
        "print(\"Las encuestas realizadas a M DE MANDARINA\", s.sum())\n",
        "s = df.loc[(df['SEXO'] == 'F') & (df['SABOR_PREFERIDO'] == 'MANDARINA'), ['ENCUESTA']]\n",
        "print(\"Las encuestas realizadas a F DE MANDARINA\", s.sum())\n",
        "\n",
        "plt.bar(x,y, color = 'pink')\n",
        "plt.xlabel(\"SEXO - SABOR_PREFERIDO\")\n",
        "plt.ylabel(\"ENCUESTA\")\n",
        "plt.xticks(rotation=90)\n",
        "plt.show()\n",
        "\n"
      ],
      "metadata": {
        "colab": {
          "base_uri": "https://localhost:8080/",
          "height": 754
        },
        "id": "-Jv6lMNrYW9F",
        "outputId": "24021cda-7d32-4fa6-a6eb-f79a90659a24"
      },
      "execution_count": null,
      "outputs": [
        {
          "output_type": "stream",
          "name": "stdout",
          "text": [
            "Las encuestas realizadas a M DE CURUBA ENCUESTA    15\n",
            "dtype: int64\n",
            "Las encuestas realizadas a f DE ENCUESTA    0.0\n",
            "dtype: float64\n",
            "Las encuestas realizadas a M DE NARANJA ENCUESTA    90\n",
            "dtype: int64\n",
            "Las encuestas realizadas a F DE NARANJA ENCUESTA    17\n",
            "dtype: int64\n",
            "Las encuestas realizadas a M DE MANDARINA ENCUESTA    46\n",
            "dtype: int64\n",
            "Las encuestas realizadas a F DE MANDARINA ENCUESTA    50\n",
            "dtype: int64\n"
          ]
        },
        {
          "output_type": "display_data",
          "data": {
            "text/plain": [
              "<Figure size 640x480 with 1 Axes>"
            ],
            "image/png": "[encoded data removed]"
          },
          "metadata": {}
        }
      ]
    },
    {
      "cell_type": "code",
      "source": [
        "x = df['ESTADO CIVIL'] + ' - ' + df['DESCRIPCION_SABOR']\n",
        "y = df['PRECIO_MAXIMO']\n",
        "\n",
        "precio_promedio = df.groupby(['ESTADO CIVIL', 'DESCRIPCION_SABOR'])['PRECIO_MAXIMO'].sum()\n",
        "print(precio_promedio)\n",
        "import matplotlib.pyplot as plt\n",
        "\n",
        "x = ['C - BUENO', 'C - MALO', 'S - BUENO', 'S - REGULAR', 'V - EXCELENTE']\n",
        "y = [1111, 1325, 2140, 3546, 1034]\n",
        "\n",
        "plt.bar(x, y, color='pink')\n",
        "plt.xlabel(\"ESTADO CIVIL - DESCRIPCION SABOR\")\n",
        "plt.ylabel(\"PRECIO MAXIMO\")\n",
        "plt.xticks(rotation=90)\n",
        "plt.ylim(0, 4000)\n",
        "\n",
        "plt.show()"
      ],
      "metadata": {
        "colab": {
          "base_uri": "https://localhost:8080/",
          "height": 666
        },
        "id": "cD9akopmY-8J",
        "outputId": "eac7fb83-6968-4898-8f13-44446e330790"
      },
      "execution_count": null,
      "outputs": [
        {
          "output_type": "stream",
          "name": "stdout",
          "text": [
            "ESTADO CIVIL  DESCRIPCION_SABOR\n",
            "C             BUENO                1111\n",
            "              MALO                 1325\n",
            "S             BUENO                2140\n",
            "              REGULAR              3546\n",
            "V             EXCELENTE            1034\n",
            "Name: PRECIO_MAXIMO, dtype: int64\n"
          ]
        },
        {
          "output_type": "display_data",
          "data": {
            "text/plain": [
              "<Figure size 640x480 with 1 Axes>"
            ],
            "image/png": "[encoded data removed]"
          },
          "metadata": {}
        }
      ]
    },
    {
      "cell_type": "code",
      "source": [
        "x = df['ESTADO CIVIL'] + ' - ' + df['SABOR_PREFERIDO'] + ' - ' + df['DESCRIPCION_SABOR']\n",
        "y = df['CONSUMO_POR_SEMANA']\n",
        "\n",
        "S = df.groupby(['ESTADO CIVIL','SABOR_PREFERIDO', 'DESCRIPCION_SABOR'])['CONSUMO_POR_SEMANA'].max()\n",
        "print(S)\n",
        "\n",
        "plt.bar(x,y, color = 'pink')\n",
        "plt.xlabel(\"ZONA - SABOR PREFERIDO- DESCRIPCION SABOR\")\n",
        "plt.ylabel(\"PRECIO_MAXIMO\")\n",
        "plt.xticks(rotation=90)\n",
        "plt.ylim(0,16)\n",
        "plt.show()\n"
      ],
      "metadata": {
        "colab": {
          "base_uri": "https://localhost:8080/",
          "height": 799
        },
        "id": "pTjVfvtJcMz8",
        "outputId": "7bafbb40-a504-4291-f9d7-a545504f4d21"
      },
      "execution_count": null,
      "outputs": [
        {
          "output_type": "stream",
          "name": "stdout",
          "text": [
            "ESTADO CIVIL  SABOR_PREFERIDO  DESCRIPCION_SABOR\n",
            "C             NARANJA          BUENO                 2\n",
            "                               MALO                 14\n",
            "S             CURUBA           BUENO                12\n",
            "              MANDARINA        BUENO                 1\n",
            "                               REGULAR              10\n",
            "              NARANJA          REGULAR               9\n",
            "V             MANDARINA        EXCELENTE             9\n",
            "Name: CONSUMO_POR_SEMANA, dtype: int64\n"
          ]
        },
        {
          "output_type": "display_data",
          "data": {
            "text/plain": [
              "<Figure size 640x480 with 1 Axes>"
            ],
            "image/png": "[encoded data removed]"
          },
          "metadata": {}
        }
      ]
    },
    {
      "cell_type": "code",
      "source": [
        "import matplotlib.pyplot as plt\n",
        "\n",
        "x = df['ZONA'] + ' - ' + df['SABOR_PREFERIDO'] + ' - ' + df['ESTRATO'].astype(str)\n",
        "y = df['EDAD']\n",
        "\n",
        "S = df.groupby(['ZONA', 'SABOR_PREFERIDO', 'ESTRATO'])['EDAD'].max()\n",
        "print(S)\n",
        "\n",
        "plt.bar(x, y, color='purple')\n",
        "plt.xlabel(\"ZONA - SABOR PREFERIDO - ESTRATO\")\n",
        "plt.ylabel(\"EDAD\")\n",
        "plt.xticks(rotation=90)\n",
        "plt.ylim(0, 50)\n",
        "plt.show()\n"
      ],
      "metadata": {
        "colab": {
          "base_uri": "https://localhost:8080/",
          "height": 817
        },
        "id": "1l7XX1X2eN21",
        "outputId": "75e19b8b-4134-4bca-ce92-664854cd2b91"
      },
      "execution_count": null,
      "outputs": [
        {
          "output_type": "stream",
          "name": "stdout",
          "text": [
            "ZONA        SABOR_PREFERIDO  ESTRATO\n",
            "FACATATIVA  CURUBA           2          18\n",
            "            MANDARINA        1          12\n",
            "                             3          22\n",
            "            NARANJA          3          15\n",
            "FUNZA       NARANJA          5          22\n",
            "MADRID      MANDARINA        3          41\n",
            "MADRID      NARANJA          2          30\n",
            "MOSQUERA    NARANJA          3          14\n",
            "Name: EDAD, dtype: int64\n"
          ]
        },
        {
          "output_type": "display_data",
          "data": {
            "text/plain": [
              "<Figure size 640x480 with 1 Axes>"
            ],
            "image/png": "[encoded data removed]"
          },
          "metadata": {}
        }
      ]
    },
    {
      "cell_type": "code",
      "source": [
        "x = df['ZONA'] + ' - ' + df['DESCRIPCION_SABOR'] + ' - ' + df['ESTRATO'].astype(str)\n",
        "y = df['ENCUESTA']\n",
        "\n",
        "s = df.loc[(df['ZONA'] == 'FACATATIVA') & (df['ESTRATO'] == 1) & (df['DESCRIPCION_SABOR'] == 'BUENO'),['ENCUESTA']]\n",
        "print(\"Las encuestas realizadas a POR ZONA SON\", s.sum())\n",
        "s = df.loc[(df['ZONA'] == 'FACATATIVA') & (df['ESTRATO'] == 2) & (df['DESCRIPCION_SABOR'] == 'BUENO'),['ENCUESTA']]\n",
        "print(\"Las encuestas realizadas a POR ZONA SON\", s.sum())\n",
        "s = df.loc[(df['ZONA'] == 'FACATATIVA') & (df['ESTRATO'] == 3) & (df['DESCRIPCION_SABOR'] == 'REGULAR'),['ENCUESTA']]\n",
        "print(\"Las encuestas realizadas a POR ZONA SON\", s.sum())\n",
        "\n",
        "s = df.loc[(df['ZONA'] == 'FUNZA') & (df['ESTRATO'] == 5) & (df['DESCRIPCION_SABOR'] == 'MALO'),['ENCUESTA']]\n",
        "print(\"Las encuestas realizadas a POR ZONA SON\", s.sum())\n",
        "\n",
        "s = df.loc[(df['ZONA'] == 'MADRID ') & (df['ESTRATO'] == 2) & (df['DESCRIPCION_SABOR'] == 'BUENO'),['ENCUESTA']]\n",
        "print(\"Las encuestas realizadas a POR ZONA SON\", s.sum())\n",
        "\n",
        "s = df.loc[(df['ZONA'] == 'MADRID') & (df['ESTRATO'] == 3) & (df['DESCRIPCION_SABOR'] == 'EXCELENTE'),['ENCUESTA']]\n",
        "print(\"Las encuestas realizadas a POR ZONA SON\", s.sum())\n",
        "\n",
        "s = df.loc[(df['ZONA'] == 'MOSQUERA') & (df['ESTRATO'] == 3) & (df['DESCRIPCION_SABOR'] == 'REGULAR'),['ENCUESTA']]\n",
        "print(\"Las encuestas realizadas a POR ZONA SON\", s.sum())\n",
        "\n",
        "plt.bar(x, y, color='green')\n",
        "plt.xlabel(\"ZONA - DESCRIPCION SABOR- ESTRATO\")\n",
        "plt.ylabel(\"ENCUESTA\")\n",
        "plt.xticks(rotation=90)\n",
        "plt.ylim(0, 60)\n",
        "plt.show()"
      ],
      "metadata": {
        "colab": {
          "base_uri": "https://localhost:8080/",
          "height": 867
        },
        "id": "rcHQf_BifLUk",
        "outputId": "961b6134-01be-4ae3-c238-8b994c4a7341"
      },
      "execution_count": null,
      "outputs": [
        {
          "output_type": "stream",
          "name": "stdout",
          "text": [
            "Las encuestas realizadas a POR ZONA SON ENCUESTA    50\n",
            "dtype: int64\n",
            "Las encuestas realizadas a POR ZONA SON ENCUESTA    15\n",
            "dtype: int64\n",
            "Las encuestas realizadas a POR ZONA SON ENCUESTA    30\n",
            "dtype: int64\n",
            "Las encuestas realizadas a POR ZONA SON ENCUESTA    42\n",
            "dtype: int64\n",
            "Las encuestas realizadas a POR ZONA SON ENCUESTA    30\n",
            "dtype: int64\n",
            "Las encuestas realizadas a POR ZONA SON ENCUESTA    34\n",
            "dtype: int64\n",
            "Las encuestas realizadas a POR ZONA SON ENCUESTA    17\n",
            "dtype: int64\n"
          ]
        },
        {
          "output_type": "display_data",
          "data": {
            "text/plain": [
              "<Figure size 640x480 with 1 Axes>"
            ],
            "image/png": "[encoded data removed]"
          },
          "metadata": {}
        }
      ]
    }
  ]
}